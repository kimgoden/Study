{
 "cells": [
  {
   "cell_type": "code",
   "execution_count": 4,
   "metadata": {
    "_cell_guid": "b1076dfc-b9ad-4769-8c92-a6c4dae69d19",
    "_uuid": "8f2839f25d086af736a60e9eeb907d3b93b6e0e5",
    "execution": {
     "iopub.execute_input": "2021-11-07T11:02:34.086142Z",
     "iopub.status.busy": "2021-11-07T11:02:34.085800Z",
     "iopub.status.idle": "2021-11-07T11:02:34.091420Z",
     "shell.execute_reply": "2021-11-07T11:02:34.090534Z",
     "shell.execute_reply.started": "2021-11-07T11:02:34.086111Z"
    }
   },
   "outputs": [],
   "source": [
    "import pandas as pd\n",
    "\n",
    "import plotly.express as px\n",
    "from plotly.subplots import make_subplots\n",
    "import plotly.figure_factory as ff\n",
    "import plotly.graph_objs as go"
   ]
  },
  {
   "cell_type": "code",
   "execution_count": 5,
   "metadata": {
    "execution": {
     "iopub.execute_input": "2021-11-07T11:10:43.218079Z",
     "iopub.status.busy": "2021-11-07T11:10:43.217715Z",
     "iopub.status.idle": "2021-11-07T11:10:51.689336Z",
     "shell.execute_reply": "2021-11-07T11:10:51.688342Z",
     "shell.execute_reply.started": "2021-11-07T11:10:43.218043Z"
    }
   },
   "outputs": [],
   "source": [
    "!pip install circlify"
   ]
  },
  {
   "cell_type": "code",
   "execution_count": 6,
   "metadata": {
    "execution": {
     "iopub.execute_input": "2021-11-07T11:11:09.934221Z",
     "iopub.status.busy": "2021-11-07T11:11:09.933913Z",
     "iopub.status.idle": "2021-11-07T11:11:09.943654Z",
     "shell.execute_reply": "2021-11-07T11:11:09.942816Z",
     "shell.execute_reply.started": "2021-11-07T11:11:09.934189Z"
    }
   },
   "outputs": [],
   "source": [
    "from pprint import pprint\n",
    "import circlify\n",
    "import matplotlib.pyplot as plt\n"
   ]
  },
  {
   "cell_type": "code",
   "execution_count": 9,
   "metadata": {
    "execution": {
     "iopub.execute_input": "2021-11-07T11:13:42.980244Z",
     "iopub.status.busy": "2021-11-07T11:13:42.979665Z",
     "iopub.status.idle": "2021-11-07T11:13:44.134108Z",
     "shell.execute_reply": "2021-11-07T11:13:44.133234Z",
     "shell.execute_reply.started": "2021-11-07T11:13:42.980204Z"
    }
   },
   "outputs": [],
   "source": [
    "df = pd.read_csv('../input/kaggle-survey-2021/kaggle_survey_2021_responses.csv',low_memory=False)\n",
    "questions = df.iloc[0, :].T\n",
    "df = df.iloc[1:, :]\n",
    "df['Q2'] = df['Q2'].apply(lambda x : 'ETC' if x not in ['Man', 'Woman'] else x)"
   ]
  },
  {
   "cell_type": "code",
   "execution_count": 13,
   "metadata": {
    "execution": {
     "iopub.execute_input": "2021-11-07T11:51:44.251863Z",
     "iopub.status.busy": "2021-11-07T11:51:44.251553Z",
     "iopub.status.idle": "2021-11-07T11:51:44.760546Z",
     "shell.execute_reply": "2021-11-07T11:51:44.759773Z",
     "shell.execute_reply.started": "2021-11-07T11:51:44.251830Z"
    }
   },
   "outputs": [],
   "source": [
    "df1 = df[df['Q2']!='ETC']\n",
    "df_q2_q8 = pd.crosstab(df1['Q8'], df1['Q2']).reset_index().sort_values(by='Man', ascending=False)\n",
    "\n",
    "data = [{'id': 'World', 'datum': 50000, 'children' : [\n",
    "              {'id' : \"Python\", 'datum' : 30000,  \n",
    "                   'children' : [ \n",
    "                     {'id' : \"Man\", 'datum' : 16291},\n",
    "                     {'id' : \"Woman\", 'datum' : 3570},\n",
    "                   ]},\n",
    "              {'id' : \"R\", 'datum' : 12000,  \n",
    "                   'children' : [ \n",
    "                     {'id' : \"Man\", 'datum' : 1103},\n",
    "                     {'id' : \"Woman\", 'datum' : 315},\n",
    "                   ]},\n",
    "              {'id' : \"SQL\", 'datum' : 8000,  \n",
    "                   'children' : [ \n",
    "                     {'id' : \"Man\", 'datum' : 984},\n",
    "                     {'id' : \"Woman\", 'datum' : 321},\n",
    "                   ]},\n",
    "    {'id' : \"C++\", 'datum' : 3000,  \n",
    "                   'children' : [ \n",
    "                     {'id' : \"Man\", 'datum' : 347},\n",
    "                     {'id' : \"Woman\", 'datum' : 85},\n",
    "                   ]},\n",
    "    {'id' : \"C\", 'datum' : 2000,  \n",
    "                   'children' : [ \n",
    "                     {'id' : \"Man\", 'datum' : 328},\n",
    "                     {'id' : \"Woman\", 'datum' : 99},\n",
    "                   ]}\n",
    "    ]}]\n",
    "circles = circlify.circlify(\n",
    "    data, \n",
    "    show_enclosure=False, \n",
    "    target_enclosure=circlify.Circle(x=0, y=0, r=1))\n",
    "fig, ax = plt.subplots(figsize=(14,14))\n",
    "\n",
    "ax.set_title('Top 5 Programming language are recommended to be a Data scientist')\n",
    "\n",
    "ax.axis('off')\n",
    "\n",
    "lim = max(\n",
    "    max(\n",
    "        abs(circle.x) + circle.r,\n",
    "        abs(circle.y) + circle.r,\n",
    "    )\n",
    "    for circle in circles\n",
    ")\n",
    "plt.xlim(-lim, lim)\n",
    "plt.ylim(-lim, lim)\n",
    "\n",
    "for circle in circles:\n",
    "    if circle.level != 2:\n",
    "      continue\n",
    "    x, y, r = circle\n",
    "    ax.add_patch( plt.Circle((x, y), r, alpha=0.5, linewidth=2, color=\"lightblue\"))\n",
    "\n",
    "for circle in circles:\n",
    "    if circle.level != 3:\n",
    "      continue\n",
    "    x, y, r = circle\n",
    "    label = circle.ex[\"id\"]\n",
    "    ax.add_patch( plt.Circle((x, y), r, alpha=0.5, linewidth=2, color=\"#69b3a2\"))\n",
    "    plt.annotate(label, (x,y ), ha='center', color=\"white\")\n",
    "\n",
    "for circle in circles:\n",
    "    if circle.level != 2:\n",
    "      continue\n",
    "    x, y, r = circle\n",
    "    label = circle.ex[\"id\"]\n",
    "    plt.annotate(label, (x,y ) ,va='center', ha='center', bbox=dict(facecolor='white', edgecolor='black', boxstyle='round', pad=.5))"
   ]
  }
 ],
 "metadata": {
  "kernelspec": {
   "display_name": "Python 3",
   "language": "python",
   "name": "python3"
  },
  "language_info": {
   "codemirror_mode": {
    "name": "ipython",
    "version": 3
   },
   "file_extension": ".py",
   "mimetype": "text/x-python",
   "name": "python",
   "nbconvert_exporter": "python",
   "pygments_lexer": "ipython3",
   "version": "3.8.8"
  }
 },
 "nbformat": 4,
 "nbformat_minor": 4
}
