{
 "cells": [
  {
   "cell_type": "markdown",
   "metadata": {
    "id": "VHJ06xAPQSPX"
   },
   "source": [
    "# Hello World"
   ]
  },
  {
   "cell_type": "code",
   "execution_count": 1,
   "metadata": {
    "colab": {
     "base_uri": "https://localhost:8080/"
    },
    "id": "ERuQIVBeQA3R",
    "outputId": "607f846c-4b15-4232-ec9e-99217607669a"
   },
   "outputs": [
    {
     "name": "stdout",
     "output_type": "stream",
     "text": [
      "Hello World\n"
     ]
    }
   ],
   "source": [
    "print(\"Hello World\")"
   ]
  },
  {
   "cell_type": "markdown",
   "metadata": {
    "id": "iqMj2Vx2Qx7O"
   },
   "source": [
    "# 주석처리"
   ]
  },
  {
   "cell_type": "code",
   "execution_count": 102,
   "metadata": {
    "colab": {
     "base_uri": "https://localhost:8080/"
    },
    "id": "KkEjYue9Q2aX",
    "outputId": "a131c86c-e62a-4665-ad56-79fa08bff04f"
   },
   "outputs": [
    {
     "name": "stdout",
     "output_type": "stream",
     "text": [
      "주석처리\n"
     ]
    }
   ],
   "source": [
    "# 한 줄 주석처리 할때는 #을 붙인다\n",
    "\n",
    "\"\"\"\n",
    "여러 줄을 주석처리 할 때는 큰 따옴표 or 작은 따옴표 세게 사이에 사용한다. 줄의 수는 상관이 없다\n",
    "\"\"\"\n",
    "print(\"주석처리\")"
   ]
  },
  {
   "cell_type": "markdown",
   "metadata": {
    "id": "Mp5DFofkRMrm"
   },
   "source": [
    "#변수의 종류"
   ]
  },
  {
   "cell_type": "code",
   "execution_count": 3,
   "metadata": {
    "colab": {
     "base_uri": "https://localhost:8080/"
    },
    "id": "5Yrj72SGRSaz",
    "outputId": "ba949c53-0d4d-4f91-d553-43b4595341f8"
   },
   "outputs": [
    {
     "name": "stdout",
     "output_type": "stream",
     "text": [
      "<class 'int'>\n",
      "<class 'float'>\n",
      "<class 'bool'>\n",
      "<class 'NoneType'>\n"
     ]
    }
   ],
   "source": [
    "num_int = 1\n",
    "print(type(num_int))\n",
    "\n",
    "num_float = 0.2\n",
    "print(type(num_float))\n",
    "\n",
    "bool_true = True\n",
    "print(type(bool_true))\n",
    "\n",
    "none_x = None\n",
    "print(type(none_x))"
   ]
  },
  {
   "cell_type": "markdown",
   "metadata": {
    "id": "30r_dM04egcX"
   },
   "source": [
    "# 사칙 연산"
   ]
  },
  {
   "cell_type": "code",
   "execution_count": 5,
   "metadata": {
    "colab": {
     "base_uri": "https://localhost:8080/"
    },
    "id": "U9vGYbuOejpK",
    "outputId": "2c294348-0c28-462a-8892-bbe05a7e1989"
   },
   "outputs": [
    {
     "name": "stdout",
     "output_type": "stream",
     "text": [
      "a + b =  9\n",
      "a - b =  1\n",
      "a * b =  20\n",
      "a / b =  1.25\n",
      "a // b =  1\n",
      "a % b =  1\n",
      "a ** b =  625\n"
     ]
    }
   ],
   "source": [
    "a = 5\n",
    "b = 4\n",
    "print('a + b = ', a+b)\n",
    "print('a - b = ', a-b)\n",
    "print('a * b = ', a*b)\n",
    "print('a / b = ', a/b)\n",
    "print('a // b = ', a//b)\n",
    "print('a % b = ', a%b)\n",
    "print('a ** b = ', a**b)"
   ]
  },
  {
   "cell_type": "code",
   "execution_count": 6,
   "metadata": {
    "colab": {
     "base_uri": "https://localhost:8080/"
    },
    "id": "h1nIlgp1en1C",
    "outputId": "9b4091fd-a9e4-4c6d-8bb1-22dc795d0dff"
   },
   "outputs": [
    {
     "name": "stdout",
     "output_type": "stream",
     "text": [
      "c + d = 10.0\n",
      "c - d = -2.0\n",
      "c * d = 24.0\n",
      "c / d = 0.6666666666666666\n",
      "c // d = 0.0\n",
      "c % d = 4.0\n",
      "c ** d = 4096.0\n"
     ]
    }
   ],
   "source": [
    "c = 4.0\n",
    "d = 6.0\n",
    "print('c + d =', c+d)\n",
    "print('c - d =', c-d)\n",
    "print('c * d =', c*d)\n",
    "print('c / d =', c/d)\n",
    "print('c // d =', c//d)\n",
    "print('c % d =', c%d)\n",
    "print('c ** d =', c**d)"
   ]
  },
  {
   "cell_type": "markdown",
   "metadata": {
    "id": "TjdkwXwRA4gU"
   },
   "source": [
    "# 문자열과 정수열 연산\n"
   ]
  },
  {
   "cell_type": "code",
   "execution_count": 108,
   "metadata": {
    "colab": {
     "base_uri": "https://localhost:8080/",
     "height": 251
    },
    "id": "ubj7NR6_A7WS",
    "outputId": "772fe282-ae33-46cb-9213-fa2584c8aedb"
   },
   "outputs": [
    {
     "ename": "TypeError",
     "evalue": "ignored",
     "output_type": "error",
     "traceback": [
      "\u001b[0;31m---------------------------------------------------------------------------\u001b[0m",
      "\u001b[0;31mTypeError\u001b[0m                                 Traceback (most recent call last)",
      "\u001b[0;32m<ipython-input-108-fe25ce2f05b3>\u001b[0m in \u001b[0;36m<module>\u001b[0;34m()\u001b[0m\n\u001b[1;32m      2\u001b[0m \u001b[0ma\u001b[0m \u001b[0;34m=\u001b[0m \u001b[0;36m1004\u001b[0m\u001b[0;34m\u001b[0m\u001b[0;34m\u001b[0m\u001b[0m\n\u001b[1;32m      3\u001b[0m \u001b[0mb\u001b[0m \u001b[0;34m=\u001b[0m \u001b[0;34m\"천사\"\u001b[0m\u001b[0;34m\u001b[0m\u001b[0;34m\u001b[0m\u001b[0m\n\u001b[0;32m----> 4\u001b[0;31m \u001b[0mc\u001b[0m \u001b[0;34m=\u001b[0m \u001b[0ma\u001b[0m\u001b[0;34m+\u001b[0m\u001b[0mb\u001b[0m\u001b[0;34m\u001b[0m\u001b[0;34m\u001b[0m\u001b[0m\n\u001b[0m\u001b[1;32m      5\u001b[0m \u001b[0;34m\u001b[0m\u001b[0m\n\u001b[1;32m      6\u001b[0m \u001b[0mprint\u001b[0m\u001b[0;34m(\u001b[0m\u001b[0mc\u001b[0m\u001b[0;34m)\u001b[0m\u001b[0;34m\u001b[0m\u001b[0;34m\u001b[0m\u001b[0m\n",
      "\u001b[0;31mTypeError\u001b[0m: unsupported operand type(s) for +: 'int' and 'str'"
     ]
    }
   ],
   "source": [
    "# 문자열에 숫자를 더하기 위해선 어떻게 해야할까?\n",
    "a = 1004\n",
    "b = \"천사\"\n",
    "c = a+b\n",
    "\n",
    "print(c)\n",
    "#위의 결과처럼 문자열과 숫자를 단순히 연산자로 더해줄 경우 오류가 발생한다\n"
   ]
  },
  {
   "cell_type": "code",
   "execution_count": 109,
   "metadata": {
    "colab": {
     "base_uri": "https://localhost:8080/"
    },
    "id": "9uGmoK4_BXsu",
    "outputId": "3d1ae4b8-fa14-4923-87ba-40f05e6f7c35"
   },
   "outputs": [
    {
     "name": "stdout",
     "output_type": "stream",
     "text": [
      "1004천사\n"
     ]
    }
   ],
   "source": [
    "# 이 문제를 해결하기 위해선 숫자(정수형, 실수형)을 문자형으로 바꿔줄 필요가 있다.\n",
    "\n",
    "a = str(1004) #정수 1004를 str()로 묶어 문자형으로 변형해주었다.\n",
    "b = \"천사\"\n",
    "c = a+b\n",
    "\n",
    "print(c)"
   ]
  },
  {
   "cell_type": "code",
   "execution_count": 110,
   "metadata": {
    "colab": {
     "base_uri": "https://localhost:8080/",
     "height": 251
    },
    "id": "J_Mp65O1B9Yr",
    "outputId": "bb6ec7c6-60a8-487e-e267-9a7b3463dc7f"
   },
   "outputs": [
    {
     "ename": "TypeError",
     "evalue": "ignored",
     "output_type": "error",
     "traceback": [
      "\u001b[0;31m---------------------------------------------------------------------------\u001b[0m",
      "\u001b[0;31mTypeError\u001b[0m                                 Traceback (most recent call last)",
      "\u001b[0;32m<ipython-input-110-b55996f7f08d>\u001b[0m in \u001b[0;36m<module>\u001b[0;34m()\u001b[0m\n\u001b[1;32m      3\u001b[0m \u001b[0ma\u001b[0m \u001b[0;34m=\u001b[0m \u001b[0mstr\u001b[0m\u001b[0;34m(\u001b[0m\u001b[0;36m1004\u001b[0m\u001b[0;34m)\u001b[0m\u001b[0;34m\u001b[0m\u001b[0;34m\u001b[0m\u001b[0m\n\u001b[1;32m      4\u001b[0m \u001b[0mb\u001b[0m \u001b[0;34m=\u001b[0m \u001b[0;34m\"천사\"\u001b[0m\u001b[0;34m\u001b[0m\u001b[0;34m\u001b[0m\u001b[0m\n\u001b[0;32m----> 5\u001b[0;31m \u001b[0mc\u001b[0m \u001b[0;34m=\u001b[0m \u001b[0ma\u001b[0m\u001b[0;34m*\u001b[0m\u001b[0mb\u001b[0m\u001b[0;34m\u001b[0m\u001b[0;34m\u001b[0m\u001b[0m\n\u001b[0m\u001b[1;32m      6\u001b[0m \u001b[0;34m\u001b[0m\u001b[0m\n\u001b[1;32m      7\u001b[0m \u001b[0mprint\u001b[0m\u001b[0;34m(\u001b[0m\u001b[0mc\u001b[0m\u001b[0;34m)\u001b[0m\u001b[0;34m\u001b[0m\u001b[0;34m\u001b[0m\u001b[0m\n",
      "\u001b[0;31mTypeError\u001b[0m: can't multiply sequence by non-int of type 'str'"
     ]
    }
   ],
   "source": [
    "# 그렇다면 + 가 아닌 다른 연산자인 * 를 사용하면 어떻게 될까?\n",
    "\n",
    "a = str(1004)\n",
    "b = \"천사\"\n",
    "c = a*b\n",
    "\n",
    "print(c)"
   ]
  },
  {
   "cell_type": "code",
   "execution_count": 113,
   "metadata": {
    "colab": {
     "base_uri": "https://localhost:8080/"
    },
    "id": "efcg9h5JCLAF",
    "outputId": "af65fd78-301a-4d47-f8c4-020366dce0a5"
   },
   "outputs": [
    {
     "name": "stdout",
     "output_type": "stream",
     "text": [
      "천사천사천사\n",
      "1004천사천사1004천사천사1004천사천사\n"
     ]
    }
   ],
   "source": [
    "# 위의 결과처럼 오류가 뜨지만, 이것이 문자형에 * 연산자를 사용하지 못함을 의미하는 것은 아니다.\n",
    "a = str(1004)\n",
    "b = \"천사\"\n",
    "c = a+b\n",
    "\n",
    "print(b*3)\n",
    "\n",
    "# 위 결과처럼 \"천사\" 을  * 연산자를 사용해 3번 출력이 가능한 것을 확인 할 수 있다.\n",
    "#응용\n",
    "\n",
    "print((c+b)*3)\n",
    "#이런식으로 복합 연산도 가능하다."
   ]
  },
  {
   "cell_type": "markdown",
   "metadata": {
    "id": "yG8vTB1Ket9j"
   },
   "source": [
    "# 논리형 연산자"
   ]
  },
  {
   "cell_type": "code",
   "execution_count": 7,
   "metadata": {
    "colab": {
     "base_uri": "https://localhost:8080/"
    },
    "id": "DFpi8-geexRf",
    "outputId": "7855debc-23c3-4046-c9b5-a5afac8041c4"
   },
   "outputs": [
    {
     "name": "stdout",
     "output_type": "stream",
     "text": [
      "True\n",
      "False\n",
      "False\n",
      "False\n"
     ]
    }
   ],
   "source": [
    "print(True and True)\n",
    "print(True and False)\n",
    "print(False and True)\n",
    "print(False and False)"
   ]
  },
  {
   "cell_type": "code",
   "execution_count": 8,
   "metadata": {
    "colab": {
     "base_uri": "https://localhost:8080/"
    },
    "id": "HfeC8O-CezWj",
    "outputId": "8b7927d8-5327-4375-c306-efa36f43eb6a"
   },
   "outputs": [
    {
     "name": "stdout",
     "output_type": "stream",
     "text": [
      "True\n",
      "True\n",
      "True\n",
      "False\n"
     ]
    }
   ],
   "source": [
    "print(True or True)\n",
    "print(True or False)\n",
    "print(False or True)\n",
    "print(False or False)"
   ]
  },
  {
   "cell_type": "markdown",
   "metadata": {
    "id": "IZWFmP4Ue1BR"
   },
   "source": [
    "# 비교 연산자"
   ]
  },
  {
   "cell_type": "code",
   "execution_count": 9,
   "metadata": {
    "colab": {
     "base_uri": "https://localhost:8080/"
    },
    "id": "iivBBww6e3Eh",
    "outputId": "c6b49868-922b-4c46-8295-52518ef79a73"
   },
   "outputs": [
    {
     "name": "stdout",
     "output_type": "stream",
     "text": [
      "True\n",
      "False\n",
      "True\n",
      "False\n",
      "False\n",
      "True\n"
     ]
    }
   ],
   "source": [
    "print(4 > 3)\n",
    "print(4 < 3)\n",
    "print(4 >= 3)\n",
    "print(4 <= 3)\n",
    "print(4 > 4)\n",
    "print(4 >= 4)"
   ]
  },
  {
   "cell_type": "markdown",
   "metadata": {
    "id": "dKcfO77Ge5Cs"
   },
   "source": [
    "# 논리형 & 비교 연산자 응용"
   ]
  },
  {
   "cell_type": "code",
   "execution_count": 10,
   "metadata": {
    "colab": {
     "base_uri": "https://localhost:8080/"
    },
    "id": "mUwKtTuDe-Nu",
    "outputId": "381a06d1-9d26-4de3-cca1-63138a4435d5"
   },
   "outputs": [
    {
     "name": "stdout",
     "output_type": "stream",
     "text": [
      "숫자를 입력하세요100\n",
      "<class 'int'>\n"
     ]
    }
   ],
   "source": [
    "# input(\"숫자를 입력하세요\")\n",
    "data = input(\"숫자를 입력하세요\")\n",
    "data2 = int(data)\n",
    "print(type(data2))"
   ]
  },
  {
   "cell_type": "code",
   "execution_count": 11,
   "metadata": {
    "colab": {
     "base_uri": "https://localhost:8080/"
    },
    "id": "jh-pPnXSfBft",
    "outputId": "022db6c4-ca1b-4925-8696-a081d3ab0e6b"
   },
   "outputs": [
    {
     "name": "stdout",
     "output_type": "stream",
     "text": [
      "첫번째 숫자를 입력하세요: 5\n",
      "두번째 숫자를 입력하세요: 4\n",
      "세번째 숫자를 입력하세요: 3\n",
      "네번째 숫자를 입력하세요: 2\n",
      "False\n"
     ]
    }
   ],
   "source": [
    "num1 = int(input(\"첫번째 숫자를 입력하세요: \"))\n",
    "num2 = int(input(\"두번째 숫자를 입력하세요: \"))\n",
    "num3 = int(input(\"세번째 숫자를 입력하세요: \"))\n",
    "num4 = int(input(\"네번째 숫자를 입력하세요: \"))\n",
    "\n",
    "var1 = num1 >= num2\n",
    "var2 = num3 < num4\n",
    "print(var1 and var2)"
   ]
  },
  {
   "cell_type": "markdown",
   "metadata": {
    "id": "vJ3QWXZkfGuW"
   },
   "source": [
    "# String"
   ]
  },
  {
   "cell_type": "code",
   "execution_count": null,
   "metadata": {
    "id": "rMJQCrS0fLUL"
   },
   "outputs": [],
   "source": [
    "print(\"'Hello, world!'\")\n",
    "print('\"Hello, world!\"')"
   ]
  },
  {
   "cell_type": "markdown",
   "metadata": {
    "id": "PZy4oMzXfNL0"
   },
   "source": [
    "# String Operators"
   ]
  },
  {
   "cell_type": "code",
   "execution_count": 12,
   "metadata": {
    "colab": {
     "base_uri": "https://localhost:8080/"
    },
    "id": "SygROFLUfIt8",
    "outputId": "83c05873-8ec6-4371-ae31-018428e8cfc6"
   },
   "outputs": [
    {
     "name": "stdout",
     "output_type": "stream",
     "text": [
      "str1 + str2 =  Hello World \n"
     ]
    }
   ],
   "source": [
    "str1 = \"Hello \"\n",
    "str2 = \"World \"\n",
    "print('str1 + str2 = ', str1 + str2)"
   ]
  },
  {
   "cell_type": "code",
   "execution_count": 13,
   "metadata": {
    "colab": {
     "base_uri": "https://localhost:8080/"
    },
    "id": "oXvZmEVZfTGO",
    "outputId": "6bb6e437-0cca-41a2-fa29-bdfd621e92ff"
   },
   "outputs": [
    {
     "name": "stdout",
     "output_type": "stream",
     "text": [
      "greet * 3 =  Hello World Hello World Hello World \n"
     ]
    }
   ],
   "source": [
    "greet = str1 + str2\n",
    "print('greet * 3 = ', greet * 3)"
   ]
  },
  {
   "cell_type": "markdown",
   "metadata": {
    "id": "TFqMhbPZfUww"
   },
   "source": [
    "# Indexing"
   ]
  },
  {
   "cell_type": "code",
   "execution_count": null,
   "metadata": {
    "id": "2QmfmdIRfZrW"
   },
   "outputs": [],
   "source": [
    "greeting = \"Hello Kaggle\"\n",
    "print(greeting[6])"
   ]
  },
  {
   "cell_type": "markdown",
   "metadata": {
    "id": "9fKbtLiJfapV"
   },
   "source": [
    "Slicing"
   ]
  },
  {
   "cell_type": "code",
   "execution_count": 14,
   "metadata": {
    "colab": {
     "base_uri": "https://localhost:8080/"
    },
    "id": "u6YBSN1dfc8n",
    "outputId": "fe9aee47-9151-4402-a24d-a108720bcad6"
   },
   "outputs": [
    {
     "name": "stdout",
     "output_type": "stream",
     "text": [
      "Hello Kaggle\n",
      "Kaggle\n",
      "Hello \n",
      "lo Ka\n",
      "HloKg\n"
     ]
    }
   ],
   "source": [
    "greeting = \"Hello Kaggle\"\n",
    "print(greeting[:])\n",
    "print(greeting[6:])\n",
    "print(greeting[:6])\n",
    "print(greeting[3:8])\n",
    "print(greeting[0:9:2])"
   ]
  },
  {
   "cell_type": "code",
   "execution_count": 16,
   "metadata": {
    "colab": {
     "base_uri": "https://localhost:8080/",
     "height": 232
    },
    "id": "jmi3Xg9LffKZ",
    "outputId": "d00bc8c4-9f9a-4abe-a4cc-bab13e5d9495"
   },
   "outputs": [
    {
     "ename": "IndexError",
     "evalue": "ignored",
     "output_type": "error",
     "traceback": [
      "\u001b[0;31m---------------------------------------------------------------------------\u001b[0m",
      "\u001b[0;31mIndexError\u001b[0m                                Traceback (most recent call last)",
      "\u001b[0;32m<ipython-input-16-e484aa72e855>\u001b[0m in \u001b[0;36m<module>\u001b[0;34m()\u001b[0m\n\u001b[0;32m----> 1\u001b[0;31m \u001b[0mgreeting\u001b[0m\u001b[0;34m[\u001b[0m\u001b[0;36m13\u001b[0m\u001b[0;34m]\u001b[0m\u001b[0;34m\u001b[0m\u001b[0;34m\u001b[0m\u001b[0m\n\u001b[0m\u001b[1;32m      2\u001b[0m \"\"\"\n\u001b[1;32m      3\u001b[0m \u001b[0m정해진\u001b[0m \u001b[0m문자열\u001b[0m \u001b[0m보다\u001b[0m \u001b[0m더\u001b[0m \u001b[0m큰\u001b[0m \u001b[0m배열값이\u001b[0m \u001b[0m들어갔기\u001b[0m \u001b[0m때문에\u001b[0m \u001b[0mnull값이\u001b[0m \u001b[0m출력되어야\u001b[0m \u001b[0m하기\u001b[0m \u001b[0m때문에\u001b[0m \u001b[0m오류가\u001b[0m \u001b[0m나온다\u001b[0m\u001b[0;34m\u001b[0m\u001b[0;34m\u001b[0m\u001b[0m\n\u001b[1;32m      4\u001b[0m \"\"\"\n",
      "\u001b[0;31mIndexError\u001b[0m: string index out of range"
     ]
    }
   ],
   "source": [
    "greeting[13]\n",
    "\"\"\"\n",
    "정해진 문자열 보다 더 큰 배열값이 들어갔기 때문에 null값이 출력되어야 하기 때문에 오류가 나온다\n",
    "\"\"\""
   ]
  },
  {
   "cell_type": "markdown",
   "metadata": {
    "id": "_xLtoboyfqkm"
   },
   "source": [
    "# 리스트"
   ]
  },
  {
   "cell_type": "code",
   "execution_count": 17,
   "metadata": {
    "colab": {
     "base_uri": "https://localhost:8080/"
    },
    "id": "rYGEoWz3fsIG",
    "outputId": "24b15795-df45-4a05-f098-8324705bbae7"
   },
   "outputs": [
    {
     "name": "stdout",
     "output_type": "stream",
     "text": [
      "cherry\n",
      "[]\n",
      "[]\n",
      "[1]\n",
      "['apple']\n",
      "[1, 2, ['apple']]\n"
     ]
    }
   ],
   "source": [
    "e = [['apple','banana','cherry'],1]\n",
    "\n",
    "print(e[0][2])\n",
    "a = [] # 빈 리스트\n",
    "a_func = list() #list()함수로도 빈 리스트를 만들 수 있다.\n",
    "b = [1] # 숫자도 요소가 될 수 있다.\n",
    "c = ['apple'] # 문자열도 요소가 될 수 있다\n",
    "d = [1, 2, ['apple']] # 리스트 안에 리스트를 요소로 넣을 수 있다.\n",
    "\n",
    "print(a)\n",
    "print(a_func)\n",
    "print(b)\n",
    "print(c)\n",
    "print(d)"
   ]
  },
  {
   "cell_type": "code",
   "execution_count": 18,
   "metadata": {
    "colab": {
     "base_uri": "https://localhost:8080/"
    },
    "id": "vH-b4dGyfuvi",
    "outputId": "f359e5d7-5cdd-4b23-9ae5-a4e9e76520a1"
   },
   "outputs": [
    {
     "name": "stdout",
     "output_type": "stream",
     "text": [
      "1\n",
      "2\n",
      "3\n",
      "3\n"
     ]
    }
   ],
   "source": [
    "a =    [1,    2,   3]\n",
    "# index [[0], [1], [2]]\n",
    "print(a[0]) # 첫번째 요소\n",
    "print(a[1]) # 두번째 요소\n",
    "print(a[2]) # 세번째 요소\n",
    "print(a[-1])"
   ]
  },
  {
   "cell_type": "code",
   "execution_count": 19,
   "metadata": {
    "colab": {
     "base_uri": "https://localhost:8080/"
    },
    "id": "LunHmBT8fxA0",
    "outputId": "af73b688-8b29-44c3-c9e8-c138411a367b"
   },
   "outputs": [
    {
     "name": "stdout",
     "output_type": "stream",
     "text": [
      "['apple', 'banana', 'cherry']\n",
      "apple\n",
      "l\n",
      "banana\n"
     ]
    }
   ],
   "source": [
    "a = [['apple','banana','cherry']]\n",
    "\n",
    "print(a[0]) # 리스트 내의 리스트\n",
    "print(a[0][0]) # 리스트 내의 리스트의 첫번째 문자열\n",
    "print(a[0][0][3]) # 리스트 내의 리스트의 첫번째 문자열 'apple' 중 첫번째 인덱스\n",
    "print(a[0][1]) # 리스트 내의 리스트의 두번째 문자열"
   ]
  },
  {
   "cell_type": "code",
   "execution_count": 20,
   "metadata": {
    "colab": {
     "base_uri": "https://localhost:8080/"
    },
    "id": "vykXvFCbfynX",
    "outputId": "75bb2ec3-d8c3-405d-f511-793d3da03987"
   },
   "outputs": [
    {
     "name": "stdout",
     "output_type": "stream",
     "text": [
      "a[:4] [1, 2, 3, 4]\n",
      "a[1:4] [2, 3, 4]\n",
      "a[0:7:2] [1, 3, 5, 7]\n",
      "a[::-1] [10, 9, 8, 7, 6, 5, 4, 3, 2, 1]\n",
      "a[::2] [1, 3, 5, 7, 9]\n"
     ]
    }
   ],
   "source": [
    "a = [1,2,3,4,5,6,7,8,9,10]\n",
    "\n",
    "b = a[:4]  # 인덱스 0부터 3까지\n",
    "c = a[1:4] # 인덱스 1부터 3까지\n",
    "d = a[0:7:2] # 인덱스 0부터 6까지 인덱스 2씩 건너 띄우기\n",
    "e = a[::-1] # 리스트 a의 역순\n",
    "f = a[::2] # 리스트 전체구간에서 인덱스 2씩 건너띄우기\n",
    "\n",
    "print(\"a[:4]\", b)\n",
    "print(\"a[1:4]\", c)\n",
    "print(\"a[0:7:2]\", d)\n",
    "print(\"a[::-1]\", e)\n",
    "print(\"a[::2]\", f)"
   ]
  },
  {
   "cell_type": "code",
   "execution_count": 21,
   "metadata": {
    "colab": {
     "base_uri": "https://localhost:8080/"
    },
    "id": "Z76waACCf0LN",
    "outputId": "e6ff4ba6-0c4d-4a6c-c1f9-2c51a3d623a9"
   },
   "outputs": [
    {
     "name": "stdout",
     "output_type": "stream",
     "text": [
      "['alice', 'bob', 'cat', 'apple', 'banana', 'cherry']\n"
     ]
    }
   ],
   "source": [
    "a = ['alice', 'bob', 'cat']\n",
    "b = ['apple', 'banana', 'cherry']\n",
    "c = a+b\n",
    "\n",
    "print(c)"
   ]
  },
  {
   "cell_type": "code",
   "execution_count": 101,
   "metadata": {
    "colab": {
     "base_uri": "https://localhost:8080/",
     "height": 73
    },
    "id": "h9-aAqM5f4Gd",
    "outputId": "4ec46c2f-c31e-4a4f-ab60-99b77aeb1e33"
   },
   "outputs": [
    {
     "name": "stdout",
     "output_type": "stream",
     "text": [
      "a * 3: ['a', 'b', 'c', 'a', 'b', 'c', 'a', 'b', 'c']\n",
      "a * 0: []\n"
     ]
    },
    {
     "data": {
      "application/vnd.google.colaboratory.intrinsic+json": {
       "type": "string"
      },
      "text/plain": [
       "'\\n문제에서 제공된 수의 범위를 보면 5부터 -9 까지 -2 씩 줄어드는 걸 알 수 있다. \\nlist에서 range 메소드를 이용할 경우 ()안에 각각 값의 의미는 ((a,b,c) 일 경우 a=시작 숫자/b=끝 숫자/c= 숫자들의 증감폭) 이다.\\n'"
      ]
     },
     "execution_count": 101,
     "metadata": {},
     "output_type": "execute_result"
    }
   ],
   "source": [
    "a = ['a','b','c']\n",
    "b = a*3\n",
    "c = a*0\n",
    "print(\"a * 3:\", b)\n",
    "print(\"a * 0:\", c)\n"
   ]
  },
  {
   "cell_type": "markdown",
   "metadata": {
    "id": "gftBQ9aU9Doz"
   },
   "source": [
    "# 리스트 도장 연습문제\n",
    "- range를 이용해 [5, 3, 1, -1, -3, -5, -7, -9]가 출력되게 만드세요"
   ]
  },
  {
   "cell_type": "code",
   "execution_count": 107,
   "metadata": {
    "colab": {
     "base_uri": "https://localhost:8080/",
     "height": 55
    },
    "id": "GvRVlPx_9Cak",
    "outputId": "e2e05fb1-faa1-4344-cc06-383f6c70be06"
   },
   "outputs": [
    {
     "name": "stdout",
     "output_type": "stream",
     "text": [
      "[5, 3, 1, -1, -3, -5, -7, -9]\n"
     ]
    },
    {
     "data": {
      "application/vnd.google.colaboratory.intrinsic+json": {
       "type": "string"
      },
      "text/plain": [
       "'\\n문제에서 제공된 수의 범위를 보면 5부터 -9 까지 -2 씩 줄어드는 걸 알 수 있다. \\nlist에서 range 메소드를 이용할 경우 ()안에 각각 값의 의미는 ((a,b,c) 일 경우 a=시작 숫자/b=끝 숫자/c= 숫자들의 증감폭) 이다.\\n'"
      ]
     },
     "execution_count": 107,
     "metadata": {},
     "output_type": "execute_result"
    }
   ],
   "source": [
    "a = list(range(5,-10,-2))\n",
    "\n",
    "print(a)\n",
    "\n",
    "\"\"\"\n",
    "문제에서 제공된 수의 범위를 보면 5부터 -9 까지 -2 씩 줄어드는 걸 알 수 있다. \n",
    "list에서 range 메소드를 이용할 경우 ()안에 각각 값의 의미는 ((a,b,c) 일 경우 a=시작 숫자/b=끝 숫자/c= 숫자들의 증감폭) 이다.\n",
    "\"\"\""
   ]
  },
  {
   "cell_type": "markdown",
   "metadata": {
    "id": "ULCj7nAGf7Fy"
   },
   "source": [
    "# 리스트 값 추가하기"
   ]
  },
  {
   "cell_type": "code",
   "execution_count": 23,
   "metadata": {
    "colab": {
     "base_uri": "https://localhost:8080/"
    },
    "id": "4U5TlL1Yf92e",
    "outputId": "60d31d6b-c0c7-4afc-9eab-0923e248a775"
   },
   "outputs": [
    {
     "name": "stdout",
     "output_type": "stream",
     "text": [
      "[0, 'b', 2]\n"
     ]
    }
   ],
   "source": [
    "a = [0,1,2]\n",
    "a[1] = \"b\"\n",
    "# a의 배열값 1을 \"b\"로 바꿔준다\n",
    "print(a)"
   ]
  },
  {
   "cell_type": "markdown",
   "metadata": {
    "id": "He8VuzzagFjT"
   },
   "source": [
    "# 리스트값 추가하기"
   ]
  },
  {
   "cell_type": "code",
   "execution_count": 24,
   "metadata": {
    "colab": {
     "base_uri": "https://localhost:8080/"
    },
    "id": "FUd6slntgIUr",
    "outputId": "c0c5cbce-7ef5-441a-fc2f-2e5ba1458fb5"
   },
   "outputs": [
    {
     "name": "stdout",
     "output_type": "stream",
     "text": [
      "[100, 200, 300, 400]\n",
      "[100, 200, 300, 400, [500, 600]]\n"
     ]
    }
   ],
   "source": [
    "a = [100, 200, 300]\n",
    "a.append(400)\n",
    "print(a)\n",
    "# 맨처음 a 배열에 400을 뒤에 추가로 넣어준다.\n",
    "a.append([500,600])\n",
    "print(a)\n",
    "# 400이 추가된 배열에 또 추가로 [500,600] 의 배열을 추가로 넣어준다."
   ]
  },
  {
   "cell_type": "code",
   "execution_count": 25,
   "metadata": {
    "colab": {
     "base_uri": "https://localhost:8080/"
    },
    "id": "8JR5QGgegaqC",
    "outputId": "fb572aee-1447-49fc-bb80-e34c9cc4c445"
   },
   "outputs": [
    {
     "name": "stdout",
     "output_type": "stream",
     "text": [
      "a.extend([40,500]) result\n",
      "[1, 2, 3, 40, 500]\n"
     ]
    }
   ],
   "source": [
    "a = [1,2,3]\n",
    "a.extend([40,500])\n",
    "print('a.extend([40,500]) result')\n",
    "print(a)   \n",
    "#append와 다르게 추가를 배열로 넣어줬지만, extend는 배열과 배열을 합쳐주는 거기 때문에 하나의 배열로 합쳐져 출력된다."
   ]
  },
  {
   "cell_type": "code",
   "execution_count": 32,
   "metadata": {
    "colab": {
     "base_uri": "https://localhost:8080/"
    },
    "id": "ZBSSZNuLgr9r",
    "outputId": "56ef27a0-135c-4d09-ce4c-a987a06a2ce0"
   },
   "outputs": [
    {
     "name": "stdout",
     "output_type": "stream",
     "text": [
      "[0, 1, 2, 5, 'HI']\n"
     ]
    }
   ],
   "source": [
    "a = [0,1,2]\n",
    "\n",
    "a.insert(4,5)\n",
    "a.insert(4,\"HI\")\n",
    "print(a)\n",
    "# insert에서 ()안에서 앞의 숫자는 배열의 순서를 지정해주고, 뒤의 숫자는 배열에 들어갈 값을 의미한다."
   ]
  },
  {
   "cell_type": "code",
   "execution_count": 52,
   "metadata": {
    "colab": {
     "base_uri": "https://localhost:8080/"
    },
    "id": "Of5zQcoWhfew",
    "outputId": "78b8f1cd-0227-42ad-afa4-19f02520a3e6"
   },
   "outputs": [
    {
     "name": "stdout",
     "output_type": "stream",
     "text": [
      "[100, 200, 0, 1, 2, 3]\n",
      "[0, 100, 200, 300, 400, 1, 2, 3]\n",
      "[0, 1, 2, 3]\n"
     ]
    }
   ],
   "source": [
    "a = [0,1,2,3]\n",
    "a[0:0] = [100,200]\n",
    "print(a)\n",
    "\n",
    "# 시작과 끝의 범위보다 큰 수를 덮어쓰는 예시\n",
    "b = [0,1,2,3]\n",
    "b[1:1] = [100,200,300,400] \n",
    "print(b)\n",
    "\n",
    "# 시작과 끝의 범위가 작을때의 예시\n",
    "c = [0,1,2,3]\n",
    "b[1:2] = [100,200,300,400] \n",
    "print(c)\n",
    "# 잘 사용하지 않는다."
   ]
  },
  {
   "cell_type": "markdown",
   "metadata": {
    "id": "8FpVL0-jjbyH"
   },
   "source": [
    "# 리스트 값 삭제하기"
   ]
  },
  {
   "cell_type": "code",
   "execution_count": 56,
   "metadata": {
    "colab": {
     "base_uri": "https://localhost:8080/"
    },
    "id": "WIAmu0oSqzhe",
    "outputId": "d15631e9-b8d5-4077-b0b5-fe37dcabb91c"
   },
   "outputs": [
    {
     "name": "stdout",
     "output_type": "stream",
     "text": [
      "[2, 1, 2]\n",
      "[2, 2]\n"
     ]
    }
   ],
   "source": [
    "a =[1,2,1,2]\n",
    "\n",
    "#리스트의 첫번째 1이 삭제\n",
    "a.remove(1)\n",
    "print(a)\n",
    "\n",
    "#리스트의 두번째 1이 삭제\n",
    "a.remove(1)\n",
    "print(a)\n",
    "# remove를 이용하면 배열에 순서대로 삭제가 가능하다. 이때, 배열에 존재하지 않는 값을 넣을 경우 오류가 발생한다."
   ]
  },
  {
   "cell_type": "code",
   "execution_count": 59,
   "metadata": {
    "colab": {
     "base_uri": "https://localhost:8080/"
    },
    "id": "R47UpG3arONb",
    "outputId": "aa9152b2-2e6e-4075-9698-99e8ddb611b6"
   },
   "outputs": [
    {
     "name": "stdout",
     "output_type": "stream",
     "text": [
      "[0, 2, 3, 4, 5, 6, 7, 8, 9]\n",
      "[0, 3, 4, 5, 6, 7, 8, 9]\n"
     ]
    }
   ],
   "source": [
    "a = [0,4,2,3,4,5,6,7,8,9]\n",
    "\n",
    "# 1 삭제\n",
    "del a[1]\n",
    "print(a)\n",
    "# del은 배열에 위치를 지정해서 삭제가 가능하다.\n",
    "b = [0,1,2,3,4,5,6,7,8,9]\n",
    "# 범위로 삭제\n",
    "del b[1:3] #list는 항상 시작하는 index부터, 종료하는 n의 n-1까지의 범위를 잡아줍니다.\n",
    "print(b)"
   ]
  },
  {
   "cell_type": "code",
   "execution_count": 65,
   "metadata": {
    "colab": {
     "base_uri": "https://localhost:8080/"
    },
    "id": "s8tRTxBsrh-k",
    "outputId": "3e7caa03-ab70-479d-9535-2c11a858f16b"
   },
   "outputs": [
    {
     "name": "stdout",
     "output_type": "stream",
     "text": [
      "[1, 2, 3, 4]\n",
      "1\n"
     ]
    }
   ],
   "source": [
    "#인덱스를 지정한 pop()\n",
    "a = [1,1,2,3,4]\n",
    "r = a.pop(0)\n",
    "# 윈도우의 잘라서 붙여넣기를 생각하면 쉽다.\n",
    "print(a)\n",
    "print(r)"
   ]
  },
  {
   "cell_type": "code",
   "execution_count": 66,
   "metadata": {
    "colab": {
     "base_uri": "https://localhost:8080/"
    },
    "id": "_gXjw7zKrrGZ",
    "outputId": "44069fc6-fac8-4518-8343-9044088889ef"
   },
   "outputs": [
    {
     "name": "stdout",
     "output_type": "stream",
     "text": [
      "['a', 'b', 'c']\n",
      "d\n"
     ]
    }
   ],
   "source": [
    "#인덱스를 지정하지 않은 pop()\n",
    "b = ['a','b','c','d',]\n",
    "x = b.pop()\n",
    "# 인덱스를 지정하지 않을 경우 배열의 가장 끝의 값을 가져온다.\n",
    "print(b)\n",
    "print(x)"
   ]
  },
  {
   "cell_type": "markdown",
   "metadata": {
    "id": "u3I3FqbisEN-"
   },
   "source": [
    "# 그 외 유용한 메서드"
   ]
  },
  {
   "cell_type": "code",
   "execution_count": 67,
   "metadata": {
    "colab": {
     "base_uri": "https://localhost:8080/"
    },
    "id": "K7H7gCefsKoa",
    "outputId": "ec87b664-9c1d-4a77-fbc3-a22bc5d59f01"
   },
   "outputs": [
    {
     "name": "stdout",
     "output_type": "stream",
     "text": [
      "[0, 1, 2, 3]\n",
      "[]\n"
     ]
    }
   ],
   "source": [
    "a = [0,1,2,3]\n",
    "print(a)\n",
    "# 배열의 모든 값을 삭제하는 메서드\n",
    "a.clear()\n",
    "print(a)"
   ]
  },
  {
   "cell_type": "code",
   "execution_count": 68,
   "metadata": {
    "colab": {
     "base_uri": "https://localhost:8080/"
    },
    "id": "wqWEV3wfsO1m",
    "outputId": "14d4164f-ebcf-46f4-eb04-dfd2e6ed9ab2"
   },
   "outputs": [
    {
     "name": "stdout",
     "output_type": "stream",
     "text": [
      "Silver가 처음 등장하는 인덱스 번호 2\n"
     ]
    }
   ],
   "source": [
    "a = [\"Gold\", \"Gold\", \"Silver\", \"Silver\"]\n",
    "print(\"Silver가 처음 등장하는 인덱스 번호\", a.index(\"Silver\"))\n",
    "# 해당 값이 들어있는 배열의 번호를 출력하는 메서드"
   ]
  },
  {
   "cell_type": "code",
   "execution_count": 70,
   "metadata": {
    "colab": {
     "base_uri": "https://localhost:8080/"
    },
    "id": "dwZa01pCsWeR",
    "outputId": "8bd73ccc-d1a4-4740-d253-5792ce8253c0"
   },
   "outputs": [
    {
     "name": "stdout",
     "output_type": "stream",
     "text": [
      "sort(): [1, 2, 3, 4, 5]\n",
      "sort(reverse=True): ['f', 'e', 'd', 'c', 'b', 'a']\n"
     ]
    }
   ],
   "source": [
    "a = [1, 4, 5, 2, 3]\n",
    "b = ['a', 'c','f','b','d','e']\n",
    "\n",
    "a.sort()\n",
    "print(\"sort():\",a)\n",
    "# 무작위로 나열된 배열의 값을 내림차순으로 정렬하는 메서드\n",
    "b.sort(reverse=True)\n",
    "print(\"sort(reverse=True):\", b)\n",
    "# 무작위로 나열된 배열의 값을 오름차순으로 정렬하는 메서드\n",
    "# 알파벳 순서도 가능하다."
   ]
  },
  {
   "cell_type": "code",
   "execution_count": 71,
   "metadata": {
    "colab": {
     "base_uri": "https://localhost:8080/",
     "height": 232
    },
    "id": "c879MIkUs7tu",
    "outputId": "32cbfe96-f9c7-45fc-c3f2-7723b59588da"
   },
   "outputs": [
    {
     "ename": "TypeError",
     "evalue": "ignored",
     "output_type": "error",
     "traceback": [
      "\u001b[0;31m---------------------------------------------------------------------------\u001b[0m",
      "\u001b[0;31mTypeError\u001b[0m                                 Traceback (most recent call last)",
      "\u001b[0;32m<ipython-input-71-1624da3f09a9>\u001b[0m in \u001b[0;36m<module>\u001b[0;34m()\u001b[0m\n\u001b[1;32m      1\u001b[0m \u001b[0mb\u001b[0m \u001b[0;34m=\u001b[0m \u001b[0;34m[\u001b[0m\u001b[0;36m4\u001b[0m\u001b[0;34m,\u001b[0m\u001b[0;36m3\u001b[0m\u001b[0;34m,\u001b[0m\u001b[0;36m2\u001b[0m\u001b[0;34m,\u001b[0m\u001b[0;34m'a'\u001b[0m\u001b[0;34m]\u001b[0m\u001b[0;34m\u001b[0m\u001b[0;34m\u001b[0m\u001b[0m\n\u001b[1;32m      2\u001b[0m \u001b[0;34m\u001b[0m\u001b[0m\n\u001b[0;32m----> 3\u001b[0;31m \u001b[0mb\u001b[0m\u001b[0;34m.\u001b[0m\u001b[0msort\u001b[0m\u001b[0;34m(\u001b[0m\u001b[0;34m)\u001b[0m\u001b[0;34m\u001b[0m\u001b[0;34m\u001b[0m\u001b[0m\n\u001b[0m\u001b[1;32m      4\u001b[0m \u001b[0mprint\u001b[0m\u001b[0;34m(\u001b[0m\u001b[0mb\u001b[0m\u001b[0;34m)\u001b[0m\u001b[0;34m\u001b[0m\u001b[0;34m\u001b[0m\u001b[0m\n",
      "\u001b[0;31mTypeError\u001b[0m: '<' not supported between instances of 'str' and 'int'"
     ]
    }
   ],
   "source": [
    "b = [4,3,2,'a']\n",
    "\n",
    "b.sort()\n",
    "print(b)\n",
    "# 단, 문자열과 정수를 혼합해서 정렬하는것은 불가능하다."
   ]
  },
  {
   "cell_type": "markdown",
   "metadata": {
    "id": "aue8Ldd-tCEJ"
   },
   "source": [
    "# 튜플"
   ]
  },
  {
   "cell_type": "code",
   "execution_count": 72,
   "metadata": {
    "colab": {
     "base_uri": "https://localhost:8080/"
    },
    "id": "UyAqUHwotEgm",
    "outputId": "30988331-b5c2-48b2-92c8-730245fe35d9"
   },
   "outputs": [
    {
     "name": "stdout",
     "output_type": "stream",
     "text": [
      "0\n",
      "(0,)\n",
      "(0, 1, 2)\n",
      "<class 'int'>\n",
      "<class 'tuple'>\n",
      "<class 'tuple'>\n"
     ]
    }
   ],
   "source": [
    "tuple1 = (0) # 끝에 콤마(,)를 붙이지 않았을 때\n",
    "tuple2 = (0,) # 끝에 콤마(,)를 붙여줬을 때\n",
    "tuple3 = 0,1,2\n",
    "\n",
    "print(tuple1)\n",
    "print(tuple2)\n",
    "print(tuple3)\n",
    "\n",
    "print(type(tuple1)) # 콤마(,)를 붙여주지 않으면 튜플이 아닙니다.\n",
    "print(type(tuple2)) # 콤마(,)를 붙여주어야 튜플 자료형 입니다.\n",
    "print(type(tuple3)) # 여러개의 값 일경우 괄호를 없애주어도 튜플 자료형 입니다."
   ]
  },
  {
   "cell_type": "code",
   "execution_count": 74,
   "metadata": {
    "colab": {
     "base_uri": "https://localhost:8080/",
     "height": 195
    },
    "id": "T-UkIfdKtGVj",
    "outputId": "60505f82-e1a5-4985-c5fe-9a878a21797f"
   },
   "outputs": [
    {
     "ename": "TypeError",
     "evalue": "ignored",
     "output_type": "error",
     "traceback": [
      "\u001b[0;31m---------------------------------------------------------------------------\u001b[0m",
      "\u001b[0;31mTypeError\u001b[0m                                 Traceback (most recent call last)",
      "\u001b[0;32m<ipython-input-74-e9d08d739f62>\u001b[0m in \u001b[0;36m<module>\u001b[0;34m()\u001b[0m\n\u001b[1;32m      1\u001b[0m \u001b[0ma\u001b[0m \u001b[0;34m=\u001b[0m \u001b[0;34m(\u001b[0m\u001b[0;36m0\u001b[0m\u001b[0;34m,\u001b[0m\u001b[0;36m1\u001b[0m\u001b[0;34m,\u001b[0m\u001b[0;36m2\u001b[0m\u001b[0;34m,\u001b[0m\u001b[0;36m3\u001b[0m\u001b[0;34m,\u001b[0m\u001b[0;34m'a'\u001b[0m\u001b[0;34m)\u001b[0m\u001b[0;34m\u001b[0m\u001b[0;34m\u001b[0m\u001b[0m\n\u001b[0;32m----> 2\u001b[0;31m \u001b[0;32mdel\u001b[0m \u001b[0ma\u001b[0m\u001b[0;34m[\u001b[0m\u001b[0;36m1\u001b[0m\u001b[0;34m]\u001b[0m\u001b[0;34m\u001b[0m\u001b[0;34m\u001b[0m\u001b[0m\n\u001b[0m",
      "\u001b[0;31mTypeError\u001b[0m: 'tuple' object doesn't support item deletion"
     ]
    }
   ],
   "source": [
    "a = (0,1,2,3,'a')\n",
    "del a[1]"
   ]
  },
  {
   "cell_type": "code",
   "execution_count": 75,
   "metadata": {
    "colab": {
     "base_uri": "https://localhost:8080/",
     "height": 195
    },
    "id": "TTCDQ9LAtWH3",
    "outputId": "701efc7a-2719-475b-89c1-a11b074ef248"
   },
   "outputs": [
    {
     "ename": "TypeError",
     "evalue": "ignored",
     "output_type": "error",
     "traceback": [
      "\u001b[0;31m---------------------------------------------------------------------------\u001b[0m",
      "\u001b[0;31mTypeError\u001b[0m                                 Traceback (most recent call last)",
      "\u001b[0;32m<ipython-input-75-04fb068f82e0>\u001b[0m in \u001b[0;36m<module>\u001b[0;34m()\u001b[0m\n\u001b[1;32m      1\u001b[0m \u001b[0ma\u001b[0m \u001b[0;34m=\u001b[0m \u001b[0;34m(\u001b[0m\u001b[0;36m0\u001b[0m\u001b[0;34m,\u001b[0m\u001b[0;36m1\u001b[0m\u001b[0;34m,\u001b[0m\u001b[0;36m2\u001b[0m\u001b[0;34m,\u001b[0m\u001b[0;36m3\u001b[0m\u001b[0;34m,\u001b[0m\u001b[0;34m'a'\u001b[0m\u001b[0;34m)\u001b[0m\u001b[0;34m\u001b[0m\u001b[0;34m\u001b[0m\u001b[0m\n\u001b[0;32m----> 2\u001b[0;31m \u001b[0ma\u001b[0m\u001b[0;34m[\u001b[0m\u001b[0;36m1\u001b[0m\u001b[0;34m]\u001b[0m\u001b[0;34m=\u001b[0m\u001b[0;34m't'\u001b[0m\u001b[0;34m\u001b[0m\u001b[0;34m\u001b[0m\u001b[0m\n\u001b[0m",
      "\u001b[0;31mTypeError\u001b[0m: 'tuple' object does not support item assignment"
     ]
    }
   ],
   "source": [
    "a = (0,1,2,3,'a')\n",
    "a[1]='t'"
   ]
  },
  {
   "cell_type": "markdown",
   "metadata": {
    "id": "uHwmueFMtYiv"
   },
   "source": [
    "<strong>튜플은 리스트처럼 요소를 저장할 수 있지만, 리스트와 다르게 요소를 추가, 삭제, 변경 할 수 없다</strong>"
   ]
  },
  {
   "cell_type": "markdown",
   "metadata": {
    "id": "i5nH4Rd8tqot"
   },
   "source": [
    "# 튜플 인덱싱 및 슬라이싱 하기"
   ]
  },
  {
   "cell_type": "code",
   "execution_count": 76,
   "metadata": {
    "colab": {
     "base_uri": "https://localhost:8080/"
    },
    "id": "WdmXeI_itqaJ",
    "outputId": "473d8735-9f66-41c7-9a78-491bc6a426d2"
   },
   "outputs": [
    {
     "name": "stdout",
     "output_type": "stream",
     "text": [
      "1\n",
      "b\n"
     ]
    }
   ],
   "source": [
    "t = (0,1,2,'b',4)\n",
    "\n",
    "print(t[1])\n",
    "print(t[3])"
   ]
  },
  {
   "cell_type": "code",
   "execution_count": 77,
   "metadata": {
    "colab": {
     "base_uri": "https://localhost:8080/"
    },
    "id": "Il7M9zJFtvw0",
    "outputId": "80f554d8-7f5e-4215-b715-aeb16c5f4d2f"
   },
   "outputs": [
    {
     "name": "stdout",
     "output_type": "stream",
     "text": [
      "(2, 3, 4)\n",
      "(0, 1)\n"
     ]
    }
   ],
   "source": [
    "t = (0,1,2,3,4)\n",
    "print(t[2:]) #시작만 설정할 경우 시작 순서부터 배열 끝까지 값을 가져온다.\n",
    "print(t[0:2]) #시작과 끝을 지정할 경우 리스트와 마찬가지로 끝 지점은 설정 한 값보다 하나 작게 출력된다.\n"
   ]
  },
  {
   "cell_type": "markdown",
   "metadata": {
    "id": "gSsrIqRHuO2W"
   },
   "source": [
    "# 튜플의 더하기 및 곱셈 연산자 사용"
   ]
  },
  {
   "cell_type": "code",
   "execution_count": 78,
   "metadata": {
    "colab": {
     "base_uri": "https://localhost:8080/"
    },
    "id": "KyVdIUiLuSTa",
    "outputId": "145b829e-5fd2-42e0-a733-aafffc97d336"
   },
   "outputs": [
    {
     "name": "stdout",
     "output_type": "stream",
     "text": [
      "(0, 1, 2, 3, 4, 'a', 'b', 'c')\n",
      "(0, 1, 2, 3, 4, 'a', 'b', 'c')\n"
     ]
    }
   ],
   "source": [
    "t1 = (0,1,2,3,4)\n",
    "t2 = ('a','b','c')\n",
    "t3 = t1+t2\n",
    "print(t1+t2)\n",
    "print(t3)\n",
    "#튜플의 요소를 삭제, 추가, 변경은 불가능하지만, 튜플과 튜플을 합치는 것은 가능하다."
   ]
  },
  {
   "cell_type": "code",
   "execution_count": 79,
   "metadata": {
    "colab": {
     "base_uri": "https://localhost:8080/"
    },
    "id": "nDXyVP8vufXj",
    "outputId": "866e486e-a7aa-48e3-de85-ee01940c0da2"
   },
   "outputs": [
    {
     "name": "stdout",
     "output_type": "stream",
     "text": [
      "()\n",
      "('a', 1, 'a', 1, 'a', 1)\n"
     ]
    }
   ],
   "source": [
    "t1 = ('a',1)\n",
    "print(t1*0)\n",
    "print(t1*3)\n",
    "# 튜플에 지정된 요소에 곱하기를 하는 것이 아닌, 요소 자체의 갯수를 늘려준다."
   ]
  },
  {
   "cell_type": "markdown",
   "metadata": {
    "id": "eDPXwrfP3gLQ"
   },
   "source": [
    "# 딕셔너리"
   ]
  },
  {
   "cell_type": "code",
   "execution_count": 80,
   "metadata": {
    "colab": {
     "base_uri": "https://localhost:8080/"
    },
    "id": "P1kQK7FZ3jd3",
    "outputId": "d0feb3fa-93ef-4496-f02e-94ec4b7dd407"
   },
   "outputs": [
    {
     "name": "stdout",
     "output_type": "stream",
     "text": [
      "alice\n",
      "5\n",
      "[1, 2, 3]\n"
     ]
    }
   ],
   "source": [
    "dic = {'teacher':'alice', 'class': 5, 'studentid': '15', 'list':[1,2,3]}\n",
    "\n",
    "print(dic['teacher'])\n",
    "print(dic['class'])\n",
    "print(dic['list'])\n",
    "\n",
    "# 값을 : 을 통해 서로 연관하여 만든다"
   ]
  },
  {
   "cell_type": "code",
   "execution_count": 82,
   "metadata": {
    "colab": {
     "base_uri": "https://localhost:8080/",
     "height": 232
    },
    "id": "jE1ny0fh3wwE",
    "outputId": "7ae8cc70-ad27-44de-ec38-5c7efca0ae23"
   },
   "outputs": [
    {
     "ename": "KeyError",
     "evalue": "ignored",
     "output_type": "error",
     "traceback": [
      "\u001b[0;31m---------------------------------------------------------------------------\u001b[0m",
      "\u001b[0;31mKeyError\u001b[0m                                  Traceback (most recent call last)",
      "\u001b[0;32m<ipython-input-82-4c77a57c3172>\u001b[0m in \u001b[0;36m<module>\u001b[0;34m()\u001b[0m\n\u001b[1;32m      1\u001b[0m \u001b[0mdic\u001b[0m \u001b[0;34m=\u001b[0m \u001b[0;34m{\u001b[0m\u001b[0;34m'teacher'\u001b[0m\u001b[0;34m:\u001b[0m\u001b[0;34m'alice'\u001b[0m\u001b[0;34m,\u001b[0m \u001b[0;34m'class'\u001b[0m\u001b[0;34m:\u001b[0m \u001b[0;36m5\u001b[0m\u001b[0;34m,\u001b[0m \u001b[0;34m'studentid'\u001b[0m\u001b[0;34m:\u001b[0m \u001b[0;34m'15'\u001b[0m\u001b[0;34m,\u001b[0m \u001b[0;34m'list'\u001b[0m\u001b[0;34m:\u001b[0m\u001b[0;34m[\u001b[0m\u001b[0;36m1\u001b[0m\u001b[0;34m,\u001b[0m\u001b[0;36m2\u001b[0m\u001b[0;34m,\u001b[0m\u001b[0;36m3\u001b[0m\u001b[0;34m]\u001b[0m\u001b[0;34m}\u001b[0m\u001b[0;34m\u001b[0m\u001b[0;34m\u001b[0m\u001b[0m\n\u001b[0;32m----> 2\u001b[0;31m \u001b[0mprint\u001b[0m\u001b[0;34m(\u001b[0m\u001b[0mdic\u001b[0m\u001b[0;34m[\u001b[0m\u001b[0;34m'real'\u001b[0m\u001b[0;34m]\u001b[0m\u001b[0;34m)\u001b[0m\u001b[0;34m\u001b[0m\u001b[0;34m\u001b[0m\u001b[0m\n\u001b[0m\u001b[1;32m      3\u001b[0m \u001b[0;34m\u001b[0m\u001b[0m\n\u001b[1;32m      4\u001b[0m \u001b[0;31m# 따로 지정해주지 않으면 나오지 않는다.\u001b[0m\u001b[0;34m\u001b[0m\u001b[0;34m\u001b[0m\u001b[0;34m\u001b[0m\u001b[0m\n",
      "\u001b[0;31mKeyError\u001b[0m: 'real'"
     ]
    }
   ],
   "source": [
    "dic = {'teacher':'alice', 'class': 5, 'studentid': '15', 'list':[1,2,3]}\n",
    "print(dic['real'])\n",
    "\n",
    "# 따로 지정해주지 않으면 나오지 않는다."
   ]
  },
  {
   "cell_type": "code",
   "execution_count": 81,
   "metadata": {
    "colab": {
     "base_uri": "https://localhost:8080/"
    },
    "id": "jtqHwnpr4Ias",
    "outputId": "7c90c49e-8ab2-4871-bec2-6edb3741a28b"
   },
   "outputs": [
    {
     "data": {
      "text/plain": [
       "dict_keys(['name', 'job', 'age'])"
      ]
     },
     "execution_count": 81,
     "metadata": {},
     "output_type": "execute_result"
    }
   ],
   "source": [
    "a = {'name': 'bob', 'job': 'farmer', 'age': 35}\n",
    "a.keys()\n",
    "\n",
    "# keys() 를 사용하면 연관지은 변수 명을 호출한다."
   ]
  },
  {
   "cell_type": "code",
   "execution_count": 83,
   "metadata": {
    "colab": {
     "base_uri": "https://localhost:8080/"
    },
    "id": "eYXKa1A14TI1",
    "outputId": "b8163684-3f9d-4f23-e44e-aee9fae01b72"
   },
   "outputs": [
    {
     "data": {
      "text/plain": [
       "dict_values(['bob', 'farmer', 35])"
      ]
     },
     "execution_count": 83,
     "metadata": {},
     "output_type": "execute_result"
    }
   ],
   "source": [
    "a = {'name': 'bob', 'job': 'farmer', 'age': 35}\n",
    "a.values()\n",
    "# values() 를 사용하면 연관지어진 변수를 호출한다."
   ]
  },
  {
   "cell_type": "code",
   "execution_count": 85,
   "metadata": {
    "colab": {
     "base_uri": "https://localhost:8080/"
    },
    "id": "DnNZhkzW4mDl",
    "outputId": "f641e4c5-e3a3-44b4-87b0-a0e2eed24518"
   },
   "outputs": [
    {
     "name": "stdout",
     "output_type": "stream",
     "text": [
      "chris\n",
      "None\n",
      "empty\n"
     ]
    }
   ],
   "source": [
    "a = {'name': 'chris', 'job': 'painter', 'age': 30}\n",
    "print(a.get('name')) # 일반적인 딕셔너리로 연관지어진 값을 가져온다.\n",
    "print(a.get('dinner')) # 따로 지정해주지 않았음으로 null값이기 때문에 None이 나온다\n",
    "print(a.get('dinner', 'empty')) # 두 변수 모두 따로 지정해주지 않았지만, 첫번째 선언한 dinner가 null이기 때문에 뒤에 선언한 변수가 추가로 출력된다"
   ]
  },
  {
   "cell_type": "markdown",
   "metadata": {
    "id": "LB3iGulf4_y5"
   },
   "source": [
    "# 집합 연산자"
   ]
  },
  {
   "cell_type": "code",
   "execution_count": 86,
   "metadata": {
    "colab": {
     "base_uri": "https://localhost:8080/"
    },
    "id": "C3LvU4JE5Hmx",
    "outputId": "9f54c468-334f-4823-f0b4-ef2cc250332e"
   },
   "outputs": [
    {
     "name": "stdout",
     "output_type": "stream",
     "text": [
      "<class 'dict'>\n",
      "<class 'set'>\n",
      "<class 'set'>\n"
     ]
    }
   ],
   "source": [
    "s = {}\n",
    "print(type(s))\n",
    "\n",
    "s = set()\n",
    "print(type(s))\n",
    "\n",
    "s = {1,2,3}\n",
    "print(type(s))"
   ]
  },
  {
   "cell_type": "code",
   "execution_count": 87,
   "metadata": {
    "colab": {
     "base_uri": "https://localhost:8080/"
    },
    "id": "ZBRm_7mt5I8G",
    "outputId": "da9630e9-7f5e-4180-d7a0-1b6b94bd3fda"
   },
   "outputs": [
    {
     "name": "stdout",
     "output_type": "stream",
     "text": [
      "a|b: {1, 2, 3, 4, 5, 6}\n",
      "a.union(b) {1, 2, 3, 4, 5, 6}\n"
     ]
    }
   ],
   "source": [
    "a = {1,3,5}\n",
    "b = {2,4,6}\n",
    "\n",
    "c = a|b\n",
    "d = a.union(b)\n",
    "print(\"a|b:\", c)\n",
    "print(\"a.union(b)\", d)\n",
    "# 두 집합을 합쳐주는 방법"
   ]
  },
  {
   "cell_type": "code",
   "execution_count": null,
   "metadata": {
    "id": "OnZSlXGv5bh3"
   },
   "outputs": [],
   "source": [
    "a = {1,3,5}\n",
    "b = {2,4,6}\n",
    "c = a&b\n",
    "print(c)\n",
    "\n",
    "e = {1,2,5}\n",
    "f = {2,3,5}\n",
    "g1 = e&f\n",
    "g2 = e.intersection(f)\n",
    "print(\"e&f:\", g1)\n",
    "print(\"e.intersection(f):\", g2)\n",
    "# 두 집합의 교집합을 출력하는 방법"
   ]
  },
  {
   "cell_type": "code",
   "execution_count": null,
   "metadata": {
    "id": "WudqpFsa5qNW"
   },
   "outputs": [],
   "source": [
    "a = {1,3,5}\n",
    "b = {2,4,5}\n",
    "\n",
    "c1 = a-b\n",
    "c2 = a.difference(b)\n",
    "print(\"a-b:\", c1)\n",
    "print(\"a.difference(b)\", c2)\n",
    "# a와 b의 교집합을 제외하고난 a 집합의 값만 출력하는 방법"
   ]
  },
  {
   "cell_type": "code",
   "execution_count": null,
   "metadata": {
    "id": "KPx4sLNA52hd"
   },
   "outputs": [],
   "source": [
    "a = {1,2,3,4,5}\n",
    "b = {3,4,5,6,7}\n",
    "\n",
    "c1 = a^b\n",
    "c2 = a.symmetric_difference(b)\n",
    "print(\"a^b\", c1)\n",
    "print(\"a.symmetric_difference(b)\", c2)\n",
    "# a와 b집합의 차집합을 출력하는 방법"
   ]
  },
  {
   "cell_type": "markdown",
   "metadata": {
    "id": "HPBq0i5U57Ee"
   },
   "source": [
    "# if 조건문"
   ]
  },
  {
   "cell_type": "code",
   "execution_count": 89,
   "metadata": {
    "colab": {
     "base_uri": "https://localhost:8080/"
    },
    "id": "gf0qodgt5-Xz",
    "outputId": "a22d701a-6dc2-4cc2-cc26-c5ce814531fb"
   },
   "outputs": [
    {
     "name": "stdout",
     "output_type": "stream",
     "text": [
      "a is bigger than 0 but a is smaller than 5 \n"
     ]
    }
   ],
   "source": [
    "a = 1\n",
    "\n",
    "if a>5:\n",
    "    print('a is bigger than 5')\n",
    "\n",
    "elif a > 0:\n",
    "    print(\"a is bigger than 0 but a is smaller than 5 \")\n",
    "\n",
    "else:\n",
    "    print(\"a is negative\")"
   ]
  },
  {
   "cell_type": "code",
   "execution_count": 114,
   "metadata": {
    "colab": {
     "base_uri": "https://localhost:8080/",
     "height": 139
    },
    "id": "Wg3nsPTlDVyg",
    "outputId": "bd9385b3-7509-4b0c-94d3-5a5e7786c403"
   },
   "outputs": [
    {
     "ename": "IndentationError",
     "evalue": "ignored",
     "output_type": "error",
     "traceback": [
      "\u001b[0;36m  File \u001b[0;32m\"<ipython-input-114-3d11f098459b>\"\u001b[0;36m, line \u001b[0;32m5\u001b[0m\n\u001b[0;31m    print('10입니다.')     # unexpected indent 에러 발생\u001b[0m\n\u001b[0m    ^\u001b[0m\n\u001b[0;31mIndentationError\u001b[0m\u001b[0;31m:\u001b[0m unexpected indent\n"
     ]
    }
   ],
   "source": [
    "x = 10\n",
    " \n",
    "if x == 10:\n",
    "     print('x에 들어있는 숫자는')\n",
    "         print('10입니다.')     # unexpected indent 에러 발생\n",
    "\n",
    "         #파이썬의 경우 들여쓰기가 문법으로 설정되어 있다. 위 코드의 경우 코드의 경우 들여쓰기 오류가 발생한 것이다."
   ]
  },
  {
   "cell_type": "code",
   "execution_count": 117,
   "metadata": {
    "colab": {
     "base_uri": "https://localhost:8080/",
     "height": 73
    },
    "id": "4lQym1LlDiQh",
    "outputId": "8926d41d-b065-4bab-841b-872a5950e1a9"
   },
   "outputs": [
    {
     "name": "stdout",
     "output_type": "stream",
     "text": [
      "x에 들어있는 숫자는\n",
      "10입니다.\n"
     ]
    },
    {
     "data": {
      "application/vnd.google.colaboratory.intrinsic+json": {
       "type": "string"
      },
      "text/plain": [
       "'\\n이처럼 파이썬의 if문 문법의 기본 형태는\\nif a == n;\\n     print(dsadasd)\\n형식으로 if 문 다음 줄은 4칸의 들여쓰기를 해야한다.\\n다른 의미로는  :  로 끝나고 난 다음 줄은 반드시 들여쓰기를 해야한다.\\n'"
      ]
     },
     "execution_count": 117,
     "metadata": {},
     "output_type": "execute_result"
    }
   ],
   "source": [
    "x = 10\n",
    " \n",
    "if x == 10:\n",
    "     print('x에 들어있는 숫자는') #들여쓰기 4칸\n",
    "     print('10입니다.')     \n",
    "\"\"\"\n",
    "이처럼 파이썬의 if문 문법의 기본 형태는\n",
    "if a == n;\n",
    "     print(dsadasd)\n",
    "형식으로 if 문 다음 줄은 4칸의 들여쓰기를 해야한다.\n",
    "다른 의미로는  :  로 끝나고 난 다음 줄은 반드시 들여쓰기를 해야한다.\n",
    "\"\"\""
   ]
  },
  {
   "cell_type": "markdown",
   "metadata": {
    "id": "eBtoYGf96RRC"
   },
   "source": [
    "# 반복문"
   ]
  },
  {
   "cell_type": "code",
   "execution_count": 90,
   "metadata": {
    "colab": {
     "base_uri": "https://localhost:8080/"
    },
    "id": "BttSbnIA6SiF",
    "outputId": "f7c5c6f0-7b82-4821-8153-bb8ef5ede1a6"
   },
   "outputs": [
    {
     "name": "stdout",
     "output_type": "stream",
     "text": [
      "Hello World\n",
      "Hello World\n",
      "Hello World\n",
      "Hello World\n",
      "Hello World\n",
      "Hello World\n",
      "Hello World\n",
      "Hello World\n",
      "Hello World\n",
      "Hello World\n"
     ]
    }
   ],
   "source": [
    "for i in range(10):\n",
    "  print(\"Hello World\")"
   ]
  },
  {
   "cell_type": "code",
   "execution_count": 92,
   "metadata": {
    "colab": {
     "base_uri": "https://localhost:8080/"
    },
    "id": "I-xEjReN6WPS",
    "outputId": "08a1a6f1-39bf-40c7-8e95-c9d8231f2013"
   },
   "outputs": [
    {
     "name": "stdout",
     "output_type": "stream",
     "text": [
      "K\n",
      "a\n",
      "g\n"
     ]
    }
   ],
   "source": [
    "a = \"Kaggle\"\n",
    "\n",
    "for x in a:\n",
    "    print(x)\n",
    "\n",
    "    if x == 'g':\n",
    "        break\n",
    "\n",
    "        #a에 들어간 Kaggle에서 g의 순서가 나올때까지 반복해서 g가 나올경우 g를 x에 넣고 출력한다."
   ]
  },
  {
   "cell_type": "code",
   "execution_count": 91,
   "metadata": {
    "colab": {
     "base_uri": "https://localhost:8080/"
    },
    "id": "pU_jfFw46mDU",
    "outputId": "07c459d3-181e-49fb-e06c-13ad32a411ac"
   },
   "outputs": [
    {
     "name": "stdout",
     "output_type": "stream",
     "text": [
      "0 A\n",
      "1 B\n",
      "2 C\n"
     ]
    }
   ],
   "source": [
    "alphabets = ['A', 'B', 'C']\n",
    "for index, value in enumerate(alphabets): # 시퀀스 자료형이 들어간다\n",
    "    print(index, value)\n",
    "\n",
    "    # 알파벳 벨류에 들어간 배열이 끝날때 까지 전부 출력한다."
   ]
  }
 ],
 "metadata": {
  "colab": {
   "name": "Untitled1.ipynb",
   "provenance": [],
   "toc_visible": true
  },
  "kernelspec": {
   "display_name": "Python 3",
   "language": "python",
   "name": "python3"
  },
  "language_info": {
   "codemirror_mode": {
    "name": "ipython",
    "version": 3
   },
   "file_extension": ".py",
   "mimetype": "text/x-python",
   "name": "python",
   "nbconvert_exporter": "python",
   "pygments_lexer": "ipython3",
   "version": "3.8.8"
  }
 },
 "nbformat": 4,
 "nbformat_minor": 4
}
