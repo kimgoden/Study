{
  "nbformat": 4,
  "nbformat_minor": 0,
  "metadata": {
    "colab": {
      "name": "Untitled5.ipynb",
      "provenance": [],
      "toc_visible": true,
      "authorship_tag": "ABX9TyORrdkkfVpkcPlOm9Hz5dnb",
      "include_colab_link": true
    },
    "kernelspec": {
      "name": "python3",
      "display_name": "Python 3"
    },
    "language_info": {
      "name": "python"
    }
  },
  "cells": [
    {
      "cell_type": "markdown",
      "metadata": {
        "id": "view-in-github",
        "colab_type": "text"
      },
      "source": [
        "<a href=\"https://colab.research.google.com/github/kimgoden/Study/blob/main/Kaggle_house_prices.ipynb\" target=\"_parent\"><img src=\"https://colab.research.google.com/assets/colab-badge.svg\" alt=\"Open In Colab\"/></a>"
      ]
    },
    {
      "cell_type": "markdown",
      "metadata": {
        "id": "obuh9Sftgu5O"
      },
      "source": [
        "# 캐글"
      ]
    },
    {
      "cell_type": "markdown",
      "metadata": {
        "id": "BFJZ4eIXgyEa"
      },
      "source": [
        "## 캐글 : 주택가격 데이터 분석"
      ]
    },
    {
      "cell_type": "markdown",
      "metadata": {
        "id": "j8p5KQ5xhoPG"
      },
      "source": [
        "### 캐글 데이터셋을 불러온다"
      ]
    },
    {
      "cell_type": "code",
      "metadata": {
        "colab": {
          "base_uri": "https://localhost:8080/"
        },
        "id": "FfSM8bZSfGQy",
        "outputId": "dd01b062-c56d-48d2-fc07-dc339578f3aa"
      },
      "source": [
        "!pip install kaggle"
      ],
      "execution_count": 1,
      "outputs": [
        {
          "output_type": "stream",
          "name": "stdout",
          "text": [
            "Requirement already satisfied: kaggle in /usr/local/lib/python3.7/dist-packages (1.5.12)\n",
            "Requirement already satisfied: python-slugify in /usr/local/lib/python3.7/dist-packages (from kaggle) (5.0.2)\n",
            "Requirement already satisfied: six>=1.10 in /usr/local/lib/python3.7/dist-packages (from kaggle) (1.15.0)\n",
            "Requirement already satisfied: tqdm in /usr/local/lib/python3.7/dist-packages (from kaggle) (4.62.3)\n",
            "Requirement already satisfied: certifi in /usr/local/lib/python3.7/dist-packages (from kaggle) (2021.5.30)\n",
            "Requirement already satisfied: python-dateutil in /usr/local/lib/python3.7/dist-packages (from kaggle) (2.8.2)\n",
            "Requirement already satisfied: requests in /usr/local/lib/python3.7/dist-packages (from kaggle) (2.23.0)\n",
            "Requirement already satisfied: urllib3 in /usr/local/lib/python3.7/dist-packages (from kaggle) (1.24.3)\n",
            "Requirement already satisfied: text-unidecode>=1.3 in /usr/local/lib/python3.7/dist-packages (from python-slugify->kaggle) (1.3)\n",
            "Requirement already satisfied: chardet<4,>=3.0.2 in /usr/local/lib/python3.7/dist-packages (from requests->kaggle) (3.0.4)\n",
            "Requirement already satisfied: idna<3,>=2.5 in /usr/local/lib/python3.7/dist-packages (from requests->kaggle) (2.10)\n"
          ]
        }
      ]
    },
    {
      "cell_type": "markdown",
      "metadata": {
        "id": "kOPcZS0RhtvH"
      },
      "source": [
        "### 내가 참여한 대회의 .json 파일을 colab에 임포트 해준다."
      ]
    },
    {
      "cell_type": "code",
      "metadata": {
        "colab": {
          "resources": {
            "http://localhost:8080/nbextensions/google.colab/files.js": {
              "data": "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",
              "ok": true,
              "headers": [
                [
                  "content-type",
                  "application/javascript"
                ]
              ],
              "status": 200,
              "status_text": ""
            }
          },
          "base_uri": "https://localhost:8080/",
          "height": 96
        },
        "id": "Rpe37lK3g86j",
        "outputId": "dc874620-fb15-4e74-b5f6-cb704256d634"
      },
      "source": [
        "from google.colab import files\n",
        "\n",
        "uploaded = files.upload()\n",
        "\n",
        "for fn in uploaded.keys():\n",
        "  print('User uploaded file \"{name}\" with length {length} bytes'.format(\n",
        "      name=fn, length=len(uploaded[fn])))\n",
        "  \n",
        "# Then move kaggle.json into the folder where the API expects to find it.\n",
        "!mkdir -p ~/.kaggle/ && mv kaggle.json ~/.kaggle/ && chmod 600 ~/.kaggle/kaggle.json"
      ],
      "execution_count": 2,
      "outputs": [
        {
          "output_type": "display_data",
          "data": {
            "text/html": [
              "\n",
              "     <input type=\"file\" id=\"files-176e05ab-5f45-43e7-ae69-203c945ca3f9\" name=\"files[]\" multiple disabled\n",
              "        style=\"border:none\" />\n",
              "     <output id=\"result-176e05ab-5f45-43e7-ae69-203c945ca3f9\">\n",
              "      Upload widget is only available when the cell has been executed in the\n",
              "      current browser session. Please rerun this cell to enable.\n",
              "      </output>\n",
              "      <script src=\"/nbextensions/google.colab/files.js\"></script> "
            ],
            "text/plain": [
              "<IPython.core.display.HTML object>"
            ]
          },
          "metadata": {}
        },
        {
          "output_type": "stream",
          "name": "stdout",
          "text": [
            "Saving kaggle.json to kaggle.json\n",
            "User uploaded file \"kaggle.json\" with length 64 bytes\n"
          ]
        }
      ]
    },
    {
      "cell_type": "markdown",
      "metadata": {
        "id": "mwpprBKhhEo_"
      },
      "source": [
        "### 대회에 사용되는 데이터를 다운로드 및 불러오기"
      ]
    },
    {
      "cell_type": "code",
      "metadata": {
        "colab": {
          "base_uri": "https://localhost:8080/"
        },
        "id": "hOElgOhOhFif",
        "outputId": "de02594e-e808-4ccb-c9b8-4b1b3b457cae"
      },
      "source": [
        "!kaggle competitions list"
      ],
      "execution_count": 3,
      "outputs": [
        {
          "output_type": "stream",
          "name": "stdout",
          "text": [
            "Warning: Looks like you're using an outdated API Version, please consider updating (server 1.5.12 / client 1.5.4)\n",
            "ref                                            deadline             category            reward  teamCount  userHasEntered  \n",
            "---------------------------------------------  -------------------  ---------------  ---------  ---------  --------------  \n",
            "contradictory-my-dear-watson                   2030-07-01 23:59:00  Getting Started     Prizes         63           False  \n",
            "gan-getting-started                            2030-07-01 23:59:00  Getting Started     Prizes         81           False  \n",
            "store-sales-time-series-forecasting            2030-06-30 23:59:00  Getting Started  Knowledge        487           False  \n",
            "tpu-getting-started                            2030-06-03 23:59:00  Getting Started  Knowledge        158           False  \n",
            "digit-recognizer                               2030-01-01 00:00:00  Getting Started  Knowledge       1456           False  \n",
            "titanic                                        2030-01-01 00:00:00  Getting Started  Knowledge      14873           False  \n",
            "house-prices-advanced-regression-techniques    2030-01-01 00:00:00  Getting Started  Knowledge       4418            True  \n",
            "connectx                                       2030-01-01 00:00:00  Getting Started  Knowledge        262           False  \n",
            "nlp-getting-started                            2030-01-01 00:00:00  Getting Started  Knowledge       1321           False  \n",
            "competitive-data-science-predict-future-sales  2022-12-31 23:59:00  Playground           Kudos      12891           False  \n",
            "g-research-crypto-forecasting                  2022-02-01 23:59:00  Featured          $125,000        144           False  \n",
            "petfinder-pawpularity-score                    2022-01-13 23:59:00  Research           $25,000       1630           False  \n",
            "optiver-realized-volatility-prediction         2022-01-10 23:59:00  Featured          $100,000       3852           False  \n",
            "nfl-big-data-bowl-2022                         2022-01-06 23:59:00  Analytics         $100,000          0           False  \n",
            "sartorius-cell-instance-segmentation           2021-12-30 23:59:00  Featured           $75,000        495           False  \n",
            "wikipedia-image-caption                        2021-12-09 11:59:00  Playground            Swag         71           False  \n",
            "lux-ai-2021                                    2021-12-06 23:59:00  Featured           $10,000        927           False  \n",
            "tabular-playground-series-nov-2021             2021-11-30 23:59:00  Playground            Swag        352           False  \n",
            "kaggle-survey-2021                             2021-11-28 23:59:00  Analytics          $30,000          0            True  \n",
            "chaii-hindi-and-tamil-question-answering       2021-11-15 23:59:00  Research           $10,000        807           False  \n"
          ]
        }
      ]
    },
    {
      "cell_type": "code",
      "metadata": {
        "colab": {
          "base_uri": "https://localhost:8080/"
        },
        "id": "1pS5S97Ih_08",
        "outputId": "eed3de07-5992-41b5-b251-49ddaad8e91b"
      },
      "source": [
        "!kaggle competitions download -c house-prices-advanced-regression-techniques"
      ],
      "execution_count": 4,
      "outputs": [
        {
          "output_type": "stream",
          "name": "stdout",
          "text": [
            "Warning: Looks like you're using an outdated API Version, please consider updating (server 1.5.12 / client 1.5.4)\n",
            "Downloading test.csv to /content\n",
            "  0% 0.00/441k [00:00<?, ?B/s]\n",
            "100% 441k/441k [00:00<00:00, 60.6MB/s]\n",
            "Downloading sample_submission.csv to /content\n",
            "  0% 0.00/31.2k [00:00<?, ?B/s]\n",
            "100% 31.2k/31.2k [00:00<00:00, 28.2MB/s]\n",
            "Downloading data_description.txt to /content\n",
            "  0% 0.00/13.1k [00:00<?, ?B/s]\n",
            "100% 13.1k/13.1k [00:00<00:00, 23.2MB/s]\n",
            "Downloading train.csv to /content\n",
            "  0% 0.00/450k [00:00<?, ?B/s]\n",
            "100% 450k/450k [00:00<00:00, 64.1MB/s]\n"
          ]
        }
      ]
    },
    {
      "cell_type": "code",
      "metadata": {
        "colab": {
          "base_uri": "https://localhost:8080/"
        },
        "id": "qrH1t3Ibk0ff",
        "outputId": "cf7d0e73-c47d-43bb-c4bf-d1800ffb3a57"
      },
      "source": [
        "import pandas as pd \n",
        "train = pd.read_csv('train.csv')\n",
        "test = pd.read_csv('test.csv')\n",
        "print('Data Loading is done!')"
      ],
      "execution_count": 5,
      "outputs": [
        {
          "output_type": "stream",
          "name": "stdout",
          "text": [
            "Data Loading is done!\n"
          ]
        }
      ]
    },
    {
      "cell_type": "markdown",
      "metadata": {
        "id": "TcluWazHk9l5"
      },
      "source": [
        "### 데이터 둘러보기"
      ]
    },
    {
      "cell_type": "code",
      "metadata": {
        "colab": {
          "base_uri": "https://localhost:8080/"
        },
        "id": "yB1v33-tlACA",
        "outputId": "1db74d82-9d85-4aed-de46-ba077ba85de5"
      },
      "source": [
        "print(\"The shape of Train Data is:\", train.shape)\n",
        "print(\"The shape of Test Data is:\", test.shape)\n",
        "# 각 데이터의 행렬값을 출력해준다."
      ],
      "execution_count": 6,
      "outputs": [
        {
          "output_type": "stream",
          "name": "stdout",
          "text": [
            "The shape of Train Data is: (1460, 81)\n",
            "The shape of Test Data is: (1459, 80)\n"
          ]
        }
      ]
    },
    {
      "cell_type": "code",
      "metadata": {
        "colab": {
          "base_uri": "https://localhost:8080/"
        },
        "id": "xsU1WOgnmUXp",
        "outputId": "b136dc36-f4a2-463d-ace4-be5db5c0f713"
      },
      "source": [
        "print(train.info())"
      ],
      "execution_count": 7,
      "outputs": [
        {
          "output_type": "stream",
          "name": "stdout",
          "text": [
            "<class 'pandas.core.frame.DataFrame'>\n",
            "RangeIndex: 1460 entries, 0 to 1459\n",
            "Data columns (total 81 columns):\n",
            " #   Column         Non-Null Count  Dtype  \n",
            "---  ------         --------------  -----  \n",
            " 0   Id             1460 non-null   int64  \n",
            " 1   MSSubClass     1460 non-null   int64  \n",
            " 2   MSZoning       1460 non-null   object \n",
            " 3   LotFrontage    1201 non-null   float64\n",
            " 4   LotArea        1460 non-null   int64  \n",
            " 5   Street         1460 non-null   object \n",
            " 6   Alley          91 non-null     object \n",
            " 7   LotShape       1460 non-null   object \n",
            " 8   LandContour    1460 non-null   object \n",
            " 9   Utilities      1460 non-null   object \n",
            " 10  LotConfig      1460 non-null   object \n",
            " 11  LandSlope      1460 non-null   object \n",
            " 12  Neighborhood   1460 non-null   object \n",
            " 13  Condition1     1460 non-null   object \n",
            " 14  Condition2     1460 non-null   object \n",
            " 15  BldgType       1460 non-null   object \n",
            " 16  HouseStyle     1460 non-null   object \n",
            " 17  OverallQual    1460 non-null   int64  \n",
            " 18  OverallCond    1460 non-null   int64  \n",
            " 19  YearBuilt      1460 non-null   int64  \n",
            " 20  YearRemodAdd   1460 non-null   int64  \n",
            " 21  RoofStyle      1460 non-null   object \n",
            " 22  RoofMatl       1460 non-null   object \n",
            " 23  Exterior1st    1460 non-null   object \n",
            " 24  Exterior2nd    1460 non-null   object \n",
            " 25  MasVnrType     1452 non-null   object \n",
            " 26  MasVnrArea     1452 non-null   float64\n",
            " 27  ExterQual      1460 non-null   object \n",
            " 28  ExterCond      1460 non-null   object \n",
            " 29  Foundation     1460 non-null   object \n",
            " 30  BsmtQual       1423 non-null   object \n",
            " 31  BsmtCond       1423 non-null   object \n",
            " 32  BsmtExposure   1422 non-null   object \n",
            " 33  BsmtFinType1   1423 non-null   object \n",
            " 34  BsmtFinSF1     1460 non-null   int64  \n",
            " 35  BsmtFinType2   1422 non-null   object \n",
            " 36  BsmtFinSF2     1460 non-null   int64  \n",
            " 37  BsmtUnfSF      1460 non-null   int64  \n",
            " 38  TotalBsmtSF    1460 non-null   int64  \n",
            " 39  Heating        1460 non-null   object \n",
            " 40  HeatingQC      1460 non-null   object \n",
            " 41  CentralAir     1460 non-null   object \n",
            " 42  Electrical     1459 non-null   object \n",
            " 43  1stFlrSF       1460 non-null   int64  \n",
            " 44  2ndFlrSF       1460 non-null   int64  \n",
            " 45  LowQualFinSF   1460 non-null   int64  \n",
            " 46  GrLivArea      1460 non-null   int64  \n",
            " 47  BsmtFullBath   1460 non-null   int64  \n",
            " 48  BsmtHalfBath   1460 non-null   int64  \n",
            " 49  FullBath       1460 non-null   int64  \n",
            " 50  HalfBath       1460 non-null   int64  \n",
            " 51  BedroomAbvGr   1460 non-null   int64  \n",
            " 52  KitchenAbvGr   1460 non-null   int64  \n",
            " 53  KitchenQual    1460 non-null   object \n",
            " 54  TotRmsAbvGrd   1460 non-null   int64  \n",
            " 55  Functional     1460 non-null   object \n",
            " 56  Fireplaces     1460 non-null   int64  \n",
            " 57  FireplaceQu    770 non-null    object \n",
            " 58  GarageType     1379 non-null   object \n",
            " 59  GarageYrBlt    1379 non-null   float64\n",
            " 60  GarageFinish   1379 non-null   object \n",
            " 61  GarageCars     1460 non-null   int64  \n",
            " 62  GarageArea     1460 non-null   int64  \n",
            " 63  GarageQual     1379 non-null   object \n",
            " 64  GarageCond     1379 non-null   object \n",
            " 65  PavedDrive     1460 non-null   object \n",
            " 66  WoodDeckSF     1460 non-null   int64  \n",
            " 67  OpenPorchSF    1460 non-null   int64  \n",
            " 68  EnclosedPorch  1460 non-null   int64  \n",
            " 69  3SsnPorch      1460 non-null   int64  \n",
            " 70  ScreenPorch    1460 non-null   int64  \n",
            " 71  PoolArea       1460 non-null   int64  \n",
            " 72  PoolQC         7 non-null      object \n",
            " 73  Fence          281 non-null    object \n",
            " 74  MiscFeature    54 non-null     object \n",
            " 75  MiscVal        1460 non-null   int64  \n",
            " 76  MoSold         1460 non-null   int64  \n",
            " 77  YrSold         1460 non-null   int64  \n",
            " 78  SaleType       1460 non-null   object \n",
            " 79  SaleCondition  1460 non-null   object \n",
            " 80  SalePrice      1460 non-null   int64  \n",
            "dtypes: float64(3), int64(35), object(43)\n",
            "memory usage: 924.0+ KB\n",
            "None\n"
          ]
        }
      ]
    },
    {
      "cell_type": "code",
      "metadata": {
        "colab": {
          "base_uri": "https://localhost:8080/"
        },
        "id": "xjnyAfvymeFL",
        "outputId": "869c3eef-1cc0-4f5f-9ace-30953776a3f0"
      },
      "source": [
        "print(test.info())"
      ],
      "execution_count": 8,
      "outputs": [
        {
          "output_type": "stream",
          "name": "stdout",
          "text": [
            "<class 'pandas.core.frame.DataFrame'>\n",
            "RangeIndex: 1459 entries, 0 to 1458\n",
            "Data columns (total 80 columns):\n",
            " #   Column         Non-Null Count  Dtype  \n",
            "---  ------         --------------  -----  \n",
            " 0   Id             1459 non-null   int64  \n",
            " 1   MSSubClass     1459 non-null   int64  \n",
            " 2   MSZoning       1455 non-null   object \n",
            " 3   LotFrontage    1232 non-null   float64\n",
            " 4   LotArea        1459 non-null   int64  \n",
            " 5   Street         1459 non-null   object \n",
            " 6   Alley          107 non-null    object \n",
            " 7   LotShape       1459 non-null   object \n",
            " 8   LandContour    1459 non-null   object \n",
            " 9   Utilities      1457 non-null   object \n",
            " 10  LotConfig      1459 non-null   object \n",
            " 11  LandSlope      1459 non-null   object \n",
            " 12  Neighborhood   1459 non-null   object \n",
            " 13  Condition1     1459 non-null   object \n",
            " 14  Condition2     1459 non-null   object \n",
            " 15  BldgType       1459 non-null   object \n",
            " 16  HouseStyle     1459 non-null   object \n",
            " 17  OverallQual    1459 non-null   int64  \n",
            " 18  OverallCond    1459 non-null   int64  \n",
            " 19  YearBuilt      1459 non-null   int64  \n",
            " 20  YearRemodAdd   1459 non-null   int64  \n",
            " 21  RoofStyle      1459 non-null   object \n",
            " 22  RoofMatl       1459 non-null   object \n",
            " 23  Exterior1st    1458 non-null   object \n",
            " 24  Exterior2nd    1458 non-null   object \n",
            " 25  MasVnrType     1443 non-null   object \n",
            " 26  MasVnrArea     1444 non-null   float64\n",
            " 27  ExterQual      1459 non-null   object \n",
            " 28  ExterCond      1459 non-null   object \n",
            " 29  Foundation     1459 non-null   object \n",
            " 30  BsmtQual       1415 non-null   object \n",
            " 31  BsmtCond       1414 non-null   object \n",
            " 32  BsmtExposure   1415 non-null   object \n",
            " 33  BsmtFinType1   1417 non-null   object \n",
            " 34  BsmtFinSF1     1458 non-null   float64\n",
            " 35  BsmtFinType2   1417 non-null   object \n",
            " 36  BsmtFinSF2     1458 non-null   float64\n",
            " 37  BsmtUnfSF      1458 non-null   float64\n",
            " 38  TotalBsmtSF    1458 non-null   float64\n",
            " 39  Heating        1459 non-null   object \n",
            " 40  HeatingQC      1459 non-null   object \n",
            " 41  CentralAir     1459 non-null   object \n",
            " 42  Electrical     1459 non-null   object \n",
            " 43  1stFlrSF       1459 non-null   int64  \n",
            " 44  2ndFlrSF       1459 non-null   int64  \n",
            " 45  LowQualFinSF   1459 non-null   int64  \n",
            " 46  GrLivArea      1459 non-null   int64  \n",
            " 47  BsmtFullBath   1457 non-null   float64\n",
            " 48  BsmtHalfBath   1457 non-null   float64\n",
            " 49  FullBath       1459 non-null   int64  \n",
            " 50  HalfBath       1459 non-null   int64  \n",
            " 51  BedroomAbvGr   1459 non-null   int64  \n",
            " 52  KitchenAbvGr   1459 non-null   int64  \n",
            " 53  KitchenQual    1458 non-null   object \n",
            " 54  TotRmsAbvGrd   1459 non-null   int64  \n",
            " 55  Functional     1457 non-null   object \n",
            " 56  Fireplaces     1459 non-null   int64  \n",
            " 57  FireplaceQu    729 non-null    object \n",
            " 58  GarageType     1383 non-null   object \n",
            " 59  GarageYrBlt    1381 non-null   float64\n",
            " 60  GarageFinish   1381 non-null   object \n",
            " 61  GarageCars     1458 non-null   float64\n",
            " 62  GarageArea     1458 non-null   float64\n",
            " 63  GarageQual     1381 non-null   object \n",
            " 64  GarageCond     1381 non-null   object \n",
            " 65  PavedDrive     1459 non-null   object \n",
            " 66  WoodDeckSF     1459 non-null   int64  \n",
            " 67  OpenPorchSF    1459 non-null   int64  \n",
            " 68  EnclosedPorch  1459 non-null   int64  \n",
            " 69  3SsnPorch      1459 non-null   int64  \n",
            " 70  ScreenPorch    1459 non-null   int64  \n",
            " 71  PoolArea       1459 non-null   int64  \n",
            " 72  PoolQC         3 non-null      object \n",
            " 73  Fence          290 non-null    object \n",
            " 74  MiscFeature    51 non-null     object \n",
            " 75  MiscVal        1459 non-null   int64  \n",
            " 76  MoSold         1459 non-null   int64  \n",
            " 77  YrSold         1459 non-null   int64  \n",
            " 78  SaleType       1458 non-null   object \n",
            " 79  SaleCondition  1459 non-null   object \n",
            "dtypes: float64(11), int64(26), object(43)\n",
            "memory usage: 912.0+ KB\n",
            "None\n"
          ]
        }
      ]
    },
    {
      "cell_type": "markdown",
      "metadata": {
        "id": "a9xXacVmmh7T"
      },
      "source": [
        "## Feature Engineering"
      ]
    },
    {
      "cell_type": "markdown",
      "metadata": {
        "id": "PYH2XJnLmlXe"
      },
      "source": [
        "### 이상치를 제거한다."
      ]
    },
    {
      "cell_type": "code",
      "metadata": {
        "colab": {
          "base_uri": "https://localhost:8080/"
        },
        "id": "mZsBHIozmnzX",
        "outputId": "65864c21-6c20-4c22-99e4-30dc43f1070d"
      },
      "source": [
        "train.drop(train[(train['OverallQual']<4) & (train['SalePrice']> 200000)].index, inplace=True)\n",
        "train.drop(train[(train['OverallCond']<4) & (train['SalePrice']> 200000)].index, inplace=True)\n",
        "train.reset_index(drop=True, inplace=True)\n",
        "print(train.shape)"
      ],
      "execution_count": 9,
      "outputs": [
        {
          "output_type": "stream",
          "name": "stdout",
          "text": [
            "(1458, 81)\n"
          ]
        }
      ]
    },
    {
      "cell_type": "markdown",
      "metadata": {
        "id": "bsInvjcDmrmM"
      },
      "source": [
        "### 종속변수의 로그 변환\n",
        "- 히스토그램으로 시각화"
      ]
    },
    {
      "cell_type": "code",
      "metadata": {
        "colab": {
          "base_uri": "https://localhost:8080/",
          "height": 441
        },
        "id": "16AMqIxumuIm",
        "outputId": "60a52a86-71f8-4f24-cff1-908e41b92593"
      },
      "source": [
        "import seaborn as sns\n",
        "import matplotlib.pyplot as plt\n",
        "from scipy.stats import norm\n",
        "\n",
        "(mu, sigma) = norm.fit(train['SalePrice'])\n",
        "print(\"The value of mu before log transformation is:\", mu)\n",
        "print(\"The value of sigma before log transformation is:\", sigma)\n",
        "\n",
        "fig, ax = plt.subplots(figsize=(10, 6))\n",
        "sns.histplot(train['SalePrice'], color=\"b\", stat=\"probability\")\n",
        "ax.xaxis.grid(False)\n",
        "ax.set(ylabel=\"Frequency\")\n",
        "ax.set(xlabel=\"SalePrice\")\n",
        "ax.set(title=\"SalePrice distribution\")\n",
        "\n",
        "plt.axvline(mu, color='r', linestyle='--')\n",
        "plt.text(mu + 10000, 0.11, 'Mean of SalePrice', rotation=0, color='r')\n",
        "fig.show()"
      ],
      "execution_count": 10,
      "outputs": [
        {
          "output_type": "stream",
          "name": "stdout",
          "text": [
            "The value of mu before log transformation is: 180761.24142661178\n",
            "The value of sigma before log transformation is: 79270.93617295024\n"
          ]
        },
        {
          "output_type": "display_data",
          "data": {
            "image/png": "[encoded data removed]",
            "text/plain": [
              "<Figure size 720x432 with 1 Axes>"
            ]
          },
          "metadata": {
            "needs_background": "light"
          }
        }
      ]
    },
    {
      "cell_type": "markdown",
      "metadata": {
        "id": "46qyuYirnBCy"
      },
      "source": [
        "- 종속변수(주택가격)이 한쪽으로 치우쳐 있기 때문에 예측 성능 상승을 위해 로그를 변환시켜준다."
      ]
    },
    {
      "cell_type": "code",
      "metadata": {
        "colab": {
          "base_uri": "https://localhost:8080/",
          "height": 441
        },
        "id": "-3T0xT4km8M_",
        "outputId": "a039f5c4-e8f8-43fa-a7c0-ee6cb18f8535"
      },
      "source": [
        "import numpy as np \n",
        "\n",
        "train[\"SalePrice\"] = np.log1p(train[\"SalePrice\"])\n",
        "\n",
        "(mu, sigma) = norm.fit(train['SalePrice'])\n",
        "print(\"The value of mu before log transformation is:\", mu)\n",
        "print(\"The value of sigma before log transformation is:\", sigma)\n",
        "\n",
        "fig, ax = plt.subplots(figsize=(10, 6))\n",
        "sns.histplot(train['SalePrice'], color=\"b\", stat=\"probability\")\n",
        "ax.xaxis.grid(False)\n",
        "ax.set(ylabel=\"Frequency\")\n",
        "ax.set(xlabel=\"SalePrice\")\n",
        "ax.set(title=\"SalePrice distribution\")\n",
        "\n",
        "plt.axvline(mu, color='r', linestyle='--')\n",
        "plt.text(mu + 0.05, 0.111, 'Mean of SalePrice', rotation=0, color='r')\n",
        "plt.ylim(0, 0.12)\n",
        "fig.show()"
      ],
      "execution_count": 11,
      "outputs": [
        {
          "output_type": "stream",
          "name": "stdout",
          "text": [
            "The value of mu before log transformation is: 12.0233397799989\n",
            "The value of sigma before log transformation is: 0.3989191793099824\n"
          ]
        },
        {
          "output_type": "display_data",
          "data": {
            "image/png": "[encoded data removed]",
            "text/plain": [
              "<Figure size 720x432 with 1 Axes>"
            ]
          },
          "metadata": {
            "needs_background": "light"
          }
        }
      ]
    },
    {
      "cell_type": "markdown",
      "metadata": {
        "id": "CQUjwVkPnUdA"
      },
      "source": [
        "### 데이터 ID 값 제거\n",
        " - 로그를 변환해주고나서 데이터(종속변수)가 변환된걸 볼 수 있다\n",
        " - 분석을 위해 사용되지 않을 변수를 추출해준다."
      ]
    },
    {
      "cell_type": "code",
      "metadata": {
        "colab": {
          "base_uri": "https://localhost:8080/"
        },
        "id": "p-_7bQY_njFe",
        "outputId": "d9b45d83-c64f-4259-eee0-989000f826e1"
      },
      "source": [
        "train_ID = train['Id']\n",
        "test_ID = test['Id']\n",
        "train.drop(['Id'], axis=1, inplace=True)\n",
        "test.drop(['Id'], axis=1, inplace=True)\n",
        "train.shape, test.shape"
      ],
      "execution_count": 12,
      "outputs": [
        {
          "output_type": "execute_result",
          "data": {
            "text/plain": [
              "((1458, 80), (1459, 79))"
            ]
          },
          "metadata": {},
          "execution_count": 12
        }
      ]
    },
    {
      "cell_type": "markdown",
      "metadata": {
        "id": "KmMC2E36nlyg"
      },
      "source": [
        "### Y값을 추출한다."
      ]
    },
    {
      "cell_type": "code",
      "metadata": {
        "colab": {
          "base_uri": "https://localhost:8080/"
        },
        "id": "AJTqQqz6pmYs",
        "outputId": "04f3a174-657e-433b-c575-af08d387b3b3"
      },
      "source": [
        "y = train['SalePrice'].reset_index(drop=True)\n",
        "train = train.drop('SalePrice', axis = 1)\n",
        "train.shape, test.shape, y.shape"
      ],
      "execution_count": 13,
      "outputs": [
        {
          "output_type": "execute_result",
          "data": {
            "text/plain": [
              "((1458, 79), (1459, 79), (1458,))"
            ]
          },
          "metadata": {},
          "execution_count": 13
        }
      ]
    },
    {
      "cell_type": "markdown",
      "metadata": {
        "id": "TIBJE7TDpo21"
      },
      "source": [
        "### 데이터 합치기"
      ]
    },
    {
      "cell_type": "code",
      "metadata": {
        "colab": {
          "base_uri": "https://localhost:8080/"
        },
        "id": "BbxdST8bpqwF",
        "outputId": "18541c02-d12e-4d21-e378-6ab4dee64be4"
      },
      "source": [
        "all_df = pd.concat([train, test]).reset_index(drop=True)\n",
        "all_df.shape"
      ],
      "execution_count": 14,
      "outputs": [
        {
          "output_type": "execute_result",
          "data": {
            "text/plain": [
              "(2917, 79)"
            ]
          },
          "metadata": {},
          "execution_count": 14
        }
      ]
    },
    {
      "cell_type": "markdown",
      "metadata": {
        "id": "minfGm-OpsB-"
      },
      "source": [
        "### 데이터 결측치 확인"
      ]
    },
    {
      "cell_type": "code",
      "metadata": {
        "colab": {
          "base_uri": "https://localhost:8080/"
        },
        "id": "kmfF_gyUpupq",
        "outputId": "46392b74-7d1b-4bdd-87f1-e11a30261bdf"
      },
      "source": [
        "def check_na(data, head_num = 6):\n",
        "  isnull_na = (data.isnull().sum() / len(data)) * 100\n",
        "  data_na = isnull_na.drop(isnull_na[isnull_na == 0].index).sort_values(ascending=False)\n",
        "  missing_data = pd.DataFrame({'Missing Ratio' :data_na, \n",
        "                               'Data Type': data.dtypes[data_na.index]})\n",
        "  print(\"결측치 데이터 컬럼과 건수:\\n\", missing_data.head(head_num))\n",
        "\n",
        "check_na(all_df, 20)"
      ],
      "execution_count": 15,
      "outputs": [
        {
          "output_type": "stream",
          "name": "stdout",
          "text": [
            "결측치 데이터 컬럼과 건수:\n",
            "               Missing Ratio Data Type\n",
            "PoolQC            99.657182    object\n",
            "MiscFeature       96.400411    object\n",
            "Alley             93.212204    object\n",
            "Fence             80.425094    object\n",
            "FireplaceQu       48.680151    object\n",
            "LotFrontage       16.626671   float64\n",
            "GarageFinish       5.450806    object\n",
            "GarageYrBlt        5.450806   float64\n",
            "GarageQual         5.450806    object\n",
            "GarageCond         5.450806    object\n",
            "GarageType         5.382242    object\n",
            "BsmtExposure       2.811107    object\n",
            "BsmtCond           2.811107    object\n",
            "BsmtQual           2.776826    object\n",
            "BsmtFinType2       2.742544    object\n",
            "BsmtFinType1       2.708262    object\n",
            "MasVnrType         0.788481    object\n",
            "MasVnrArea         0.754200   float64\n",
            "MSZoning           0.137127    object\n",
            "BsmtFullBath       0.068564   float64\n"
          ]
        }
      ]
    },
    {
      "cell_type": "markdown",
      "metadata": {
        "id": "CnmjvHlzqWwj"
      },
      "source": [
        "### 결측치 제거"
      ]
    },
    {
      "cell_type": "code",
      "metadata": {
        "colab": {
          "base_uri": "https://localhost:8080/"
        },
        "id": "NQdwOrFSqY9k",
        "outputId": "cb67bb5a-0f54-4708-c666-5073073eeb13"
      },
      "source": [
        "all_df.drop(['PoolQC', 'MiscFeature', 'Alley', 'Fence', 'FireplaceQu', 'LotFrontage'], axis=1, inplace=True)\n",
        "check_na(all_df)"
      ],
      "execution_count": 16,
      "outputs": [
        {
          "output_type": "stream",
          "name": "stdout",
          "text": [
            "결측치 데이터 컬럼과 건수:\n",
            "               Missing Ratio Data Type\n",
            "GarageQual         5.450806    object\n",
            "GarageFinish       5.450806    object\n",
            "GarageYrBlt        5.450806   float64\n",
            "GarageCond         5.450806    object\n",
            "GarageType         5.382242    object\n",
            "BsmtCond           2.811107    object\n"
          ]
        }
      ]
    },
    {
      "cell_type": "markdown",
      "metadata": {
        "id": "PYKycggQqaKZ"
      },
      "source": [
        "### 결측치 채우기"
      ]
    },
    {
      "cell_type": "code",
      "metadata": {
        "colab": {
          "base_uri": "https://localhost:8080/"
        },
        "id": "-iQsvoZkqb_G",
        "outputId": "dfa57f4a-9731-48f5-b3c9-1a7a9f74f780"
      },
      "source": [
        "print(all_df['BsmtCond'].value_counts())\n",
        "print()\n",
        "print(all_df['BsmtCond'].mode()[0])"
      ],
      "execution_count": 17,
      "outputs": [
        {
          "output_type": "stream",
          "name": "stdout",
          "text": [
            "TA    2604\n",
            "Gd     122\n",
            "Fa     104\n",
            "Po       5\n",
            "Name: BsmtCond, dtype: int64\n",
            "\n",
            "TA\n"
          ]
        }
      ]
    },
    {
      "cell_type": "code",
      "metadata": {
        "colab": {
          "base_uri": "https://localhost:8080/"
        },
        "id": "i3TZmcRwqeFf",
        "outputId": "6a47ad9b-9aa0-4ba5-f572-49606679f912"
      },
      "source": [
        "import numpy as np\n",
        "cat_all_vars = train.select_dtypes(exclude=[np.number])\n",
        "print(\"The whole number of all_vars\", len(list(cat_all_vars)))\n",
        "\n",
        "final_cat_vars = []\n",
        "for v in cat_all_vars:\n",
        "    if v not in ['PoolQC', 'MiscFeature', 'Alley', 'Fence', 'FireplaceQu', 'LotFrontage']:\n",
        "        final_cat_vars.append(v)\n",
        "\n",
        "print(\"The whole number of final_cat_vars\", len(final_cat_vars))\n",
        "for i in final_cat_vars:\n",
        "  all_df[i] = all_df[i].fillna(all_df[i].mode()[0])\n",
        "\n",
        "check_na(all_df, 20)"
      ],
      "execution_count": 18,
      "outputs": [
        {
          "output_type": "stream",
          "name": "stdout",
          "text": [
            "The whole number of all_vars 43\n",
            "The whole number of final_cat_vars 38\n",
            "결측치 데이터 컬럼과 건수:\n",
            "               Missing Ratio Data Type\n",
            "GarageYrBlt        5.450806   float64\n",
            "MasVnrArea         0.754200   float64\n",
            "BsmtHalfBath       0.068564   float64\n",
            "BsmtFullBath       0.068564   float64\n",
            "GarageArea         0.034282   float64\n",
            "GarageCars         0.034282   float64\n",
            "TotalBsmtSF        0.034282   float64\n",
            "BsmtUnfSF          0.034282   float64\n",
            "BsmtFinSF2         0.034282   float64\n",
            "BsmtFinSF1         0.034282   float64\n"
          ]
        }
      ]
    },
    {
      "cell_type": "code",
      "metadata": {
        "colab": {
          "base_uri": "https://localhost:8080/"
        },
        "id": "y5RdfKlGqhIj",
        "outputId": "f39776c9-3e72-4476-a6a2-85db8bfcb217"
      },
      "source": [
        "import numpy as np\n",
        "num_all_vars = list(train.select_dtypes(include=[np.number]))\n",
        "print(\"The whole number of all_vars\", len(num_all_vars))\n",
        "\n",
        "num_all_vars.remove('LotFrontage')\n",
        "\n",
        "print(\"The whole number of final_cat_vars\", len(num_all_vars))\n",
        "for i in num_all_vars:\n",
        "  all_df[i].fillna(value=all_df[i].median(), inplace=True)\n",
        "\n",
        "check_na(all_df, 20)"
      ],
      "execution_count": 19,
      "outputs": [
        {
          "output_type": "stream",
          "name": "stdout",
          "text": [
            "The whole number of all_vars 36\n",
            "The whole number of final_cat_vars 35\n",
            "결측치 데이터 컬럼과 건수:\n",
            " Empty DataFrame\n",
            "Columns: [Missing Ratio, Data Type]\n",
            "Index: []\n"
          ]
        }
      ]
    },
    {
      "cell_type": "markdown",
      "metadata": {
        "id": "sNxcqslIql87"
      },
      "source": [
        "### 왜도(Skewnewss) 처리하기\n",
        "- 왜도 데이터 확인"
      ]
    },
    {
      "cell_type": "code",
      "metadata": {
        "colab": {
          "base_uri": "https://localhost:8080/"
        },
        "id": "OcJSlLXkqodC",
        "outputId": "e0c66223-d54c-4cad-e3c9-284f9c3c2154"
      },
      "source": [
        "from scipy.stats import skew\n",
        "\n",
        "def find_skew(x):\n",
        "  return skew(x)\n",
        "\n",
        "skewness_features = all_df[num_all_vars].apply(find_skew).sort_values(ascending=False)\n",
        "skewness_features"
      ],
      "execution_count": 20,
      "outputs": [
        {
          "output_type": "execute_result",
          "data": {
            "text/plain": [
              "MiscVal          21.939672\n",
              "PoolArea         16.892477\n",
              "LotArea          12.867139\n",
              "LowQualFinSF     12.084539\n",
              "3SsnPorch        11.372080\n",
              "KitchenAbvGr      4.318923\n",
              "BsmtFinSF2        4.144503\n",
              "EnclosedPorch     4.013741\n",
              "ScreenPorch       3.945101\n",
              "BsmtHalfBath      3.929996\n",
              "MasVnrArea        2.615714\n",
              "OpenPorchSF       2.534326\n",
              "WoodDeckSF        1.841876\n",
              "1stFlrSF          1.469798\n",
              "BsmtFinSF1        1.429239\n",
              "MSSubClass        1.374726\n",
              "GrLivArea         1.271773\n",
              "TotalBsmtSF       1.165468\n",
              "BsmtUnfSF         0.919795\n",
              "2ndFlrSF          0.860643\n",
              "TotRmsAbvGrd      0.760404\n",
              "Fireplaces        0.734449\n",
              "HalfBath          0.695072\n",
              "BsmtFullBath      0.626733\n",
              "OverallCond       0.584601\n",
              "BedroomAbvGr      0.329555\n",
              "GarageArea        0.241611\n",
              "OverallQual       0.196514\n",
              "MoSold            0.195229\n",
              "FullBath          0.164226\n",
              "YrSold            0.132129\n",
              "GarageCars       -0.218309\n",
              "GarageYrBlt      -0.398311\n",
              "YearRemodAdd     -0.451063\n",
              "YearBuilt        -0.600023\n",
              "dtype: float64"
            ]
          },
          "metadata": {},
          "execution_count": 20
        }
      ]
    },
    {
      "cell_type": "markdown",
      "metadata": {
        "id": "GijJeSBtqvlh"
      },
      "source": [
        "-  박스플롯 형태로 시각화"
      ]
    },
    {
      "cell_type": "code",
      "metadata": {
        "colab": {
          "base_uri": "https://localhost:8080/",
          "height": 404
        },
        "id": "0O-RKFczqtuT",
        "outputId": "29eb476c-44d3-4219-ce7c-0cc2ffdb25ee"
      },
      "source": [
        "skewnewss_index = list(skewness_features.index)\n",
        "skewnewss_index.remove('LotArea')\n",
        "all_numeric_df = all_df.loc[:, skewnewss_index]\n",
        "\n",
        "fig, ax = plt.subplots(figsize=(10, 6))\n",
        "ax.set_xlim(0, all_numeric_df.max().sort_values(ascending=False)[0])\n",
        "ax = sns.boxplot(data=all_numeric_df[skewnewss_index] , orient=\"h\", palette=\"Set1\")\n",
        "ax.xaxis.grid(False)\n",
        "ax.set(ylabel=\"Feature names\")\n",
        "ax.set(xlabel=\"Numeric values\")\n",
        "ax.set(title=\"Numeric Distribution of Features Before Box-Cox Transformation\")\n",
        "sns.despine(trim=True, left=True)"
      ],
      "execution_count": 21,
      "outputs": [
        {
          "output_type": "display_data",
          "data": {
            "image/png": "[encoded data removed]",
            "text/plain": [
              "<Figure size 720x432 with 1 Axes>"
            ]
          },
          "metadata": {
            "needs_background": "light"
          }
        }
      ]
    },
    {
      "cell_type": "markdown",
      "metadata": {
        "id": "FflHhFADrA2D"
      },
      "source": [
        "- 왜도 데이터 삭제"
      ]
    },
    {
      "cell_type": "code",
      "metadata": {
        "colab": {
          "base_uri": "https://localhost:8080/"
        },
        "id": "Nt5ecyakq2zF",
        "outputId": "b3e2e2d7-f90f-464d-b864-9cfa16e23de4"
      },
      "source": [
        "from scipy.special import boxcox1p\n",
        "from scipy.stats import boxcox_normmax\n",
        "\n",
        "high_skew = skewness_features[skewness_features > 1]\n",
        "high_skew_index = high_skew.index\n",
        "\n",
        "print(\"The data before Box-Cox Transformation: \\n\", all_df[high_skew_index].head())\n",
        "\n",
        "for num_var in high_skew_index:\n",
        "  all_df[num_var] = boxcox1p(all_df[num_var], boxcox_normmax(all_df[num_var] + 1))\n",
        "\n",
        "print(\"The data after Box-Cox Transformation: \\n\", all_df[high_skew_index].head())"
      ],
      "execution_count": 22,
      "outputs": [
        {
          "output_type": "stream",
          "name": "stdout",
          "text": [
            "The data before Box-Cox Transformation: \n",
            "    MiscVal  PoolArea  LotArea  ...  MSSubClass  GrLivArea  TotalBsmtSF\n",
            "0        0         0     8450  ...          60       1710        856.0\n",
            "1        0         0     9600  ...          20       1262       1262.0\n",
            "2        0         0    11250  ...          60       1786        920.0\n",
            "3        0         0     9550  ...          70       1717        756.0\n",
            "4        0         0    14260  ...          60       2198       1145.0\n",
            "\n",
            "[5 rows x 18 columns]\n",
            "The data after Box-Cox Transformation: \n",
            "    MiscVal  PoolArea    LotArea  ...  MSSubClass  GrLivArea  TotalBsmtSF\n",
            "0      0.0       0.0  13.454344  ...    6.505897   7.219262   294.614887\n",
            "1      0.0       0.0  13.725427  ...    4.252612   6.933523   404.051498\n",
            "2      0.0       0.0  14.066408  ...    6.505897   7.260108   312.423510\n",
            "3      0.0       0.0  13.714276  ...    6.869385   7.223100   266.274241\n",
            "4      0.0       0.0  14.584552  ...    6.505897   7.454890   373.304502\n",
            "\n",
            "[5 rows x 18 columns]\n"
          ]
        },
        {
          "output_type": "stream",
          "name": "stderr",
          "text": [
            "/usr/local/lib/python3.7/dist-packages/scipy/stats/stats.py:3508: PearsonRConstantInputWarning: An input array is constant; the correlation coefficent is not defined.\n",
            "  warnings.warn(PearsonRConstantInputWarning())\n",
            "/usr/local/lib/python3.7/dist-packages/scipy/stats/stats.py:3538: PearsonRNearConstantInputWarning: An input array is nearly constant; the computed correlation coefficent may be inaccurate.\n",
            "  warnings.warn(PearsonRNearConstantInputWarning())\n"
          ]
        }
      ]
    },
    {
      "cell_type": "code",
      "metadata": {
        "colab": {
          "base_uri": "https://localhost:8080/",
          "height": 408
        },
        "id": "PC3psrDdq5Ce",
        "outputId": "545189dc-8a35-4538-b959-9f965c1e67dc"
      },
      "source": [
        "fig, ax = plt.subplots(figsize=(10, 6))\n",
        "ax.set_xscale('log')\n",
        "ax = sns.boxplot(data=all_df[high_skew_index] , orient=\"h\", palette=\"Set1\")\n",
        "ax.xaxis.grid(False)\n",
        "ax.set(ylabel=\"Feature names\")\n",
        "ax.set(xlabel=\"Numeric values\")\n",
        "ax.set(title=\"Numeric Distribution of Features Before Box-Cox Transformation\")\n",
        "sns.despine(trim=True, left=True)"
      ],
      "execution_count": 23,
      "outputs": [
        {
          "output_type": "display_data",
          "data": {
            "image/png": "[encoded data removed]",
            "text/plain": [
              "<Figure size 720x432 with 1 Axes>"
            ]
          },
          "metadata": {
            "needs_background": "light"
          }
        }
      ]
    },
    {
      "cell_type": "markdown",
      "metadata": {
        "id": "0zqdY__LrHAm"
      },
      "source": [
        "### 도출변수\n",
        "- 집의 크기에 해당하는 변수를 묶어서 처리해준다."
      ]
    },
    {
      "cell_type": "code",
      "metadata": {
        "id": "nufwFb3TrJ22"
      },
      "source": [
        "all_df['TotalSF'] = all_df['TotalBsmtSF'] + all_df['1stFlrSF'] + all_df['2ndFlrSF']\n",
        "all_df = all_df.drop(['TotalBsmtSF', '1stFlrSF', '2ndFlrSF'], axis=1)\n",
        "print(all_df.shape)"
      ],
      "execution_count": null,
      "outputs": []
    },
    {
      "cell_type": "markdown",
      "metadata": {
        "id": "QNiw6Q6VreLK"
      },
      "source": [
        "- 집의 욕조, 풀장과 같은 옵션을 하나로 묶는다."
      ]
    },
    {
      "cell_type": "code",
      "metadata": {
        "id": "M5UcD5SRrcsX"
      },
      "source": [
        "all_df['Total_Bathrooms'] = (all_df['FullBath'] + (0.5 * all_df['HalfBath']) + all_df['BsmtFullBath'] + (0.5 * all_df['BsmtHalfBath']))\n",
        "all_df['Total_porch_sf'] = (all_df['OpenPorchSF'] + all_df['3SsnPorch'] + all_df['EnclosedPorch'] + all_df['ScreenPorch'])\n",
        "all_df = all_df.drop(['FullBath', 'HalfBath', 'BsmtFullBath', 'BsmtHalfBath', 'OpenPorchSF', '3SsnPorch', 'EnclosedPorch', 'ScreenPorch'], axis=1)\n",
        "print(all_df.shape)"
      ],
      "execution_count": null,
      "outputs": []
    },
    {
      "cell_type": "markdown",
      "metadata": {
        "id": "kIH-BWbwrlj8"
      },
      "source": [
        "- 집의 준공연도, 리모델링연도, 판매연도, 등 기간에 관한 변수를 하나로 묶는다."
      ]
    },
    {
      "cell_type": "code",
      "metadata": {
        "colab": {
          "base_uri": "https://localhost:8080/"
        },
        "id": "i6J6OmCNrskH",
        "outputId": "ffb05f2b-4d89-48b3-c839-d49d7991f5ed"
      },
      "source": [
        "num_all_vars = list(train.select_dtypes(include=[np.number]))\n",
        "year_feature = []\n",
        "for var in num_all_vars:\n",
        "  if 'Yr' in var:\n",
        "    year_feature.append(var)\n",
        "  elif 'Year' in var:\n",
        "    year_feature.append(var)\n",
        "  else:  \n",
        "    print(var, \"is not related with Year\")\n",
        "print(year_feature)"
      ],
      "execution_count": 25,
      "outputs": [
        {
          "output_type": "stream",
          "name": "stdout",
          "text": [
            "MSSubClass is not related with Year\n",
            "LotFrontage is not related with Year\n",
            "LotArea is not related with Year\n",
            "OverallQual is not related with Year\n",
            "OverallCond is not related with Year\n",
            "MasVnrArea is not related with Year\n",
            "BsmtFinSF1 is not related with Year\n",
            "BsmtFinSF2 is not related with Year\n",
            "BsmtUnfSF is not related with Year\n",
            "TotalBsmtSF is not related with Year\n",
            "1stFlrSF is not related with Year\n",
            "2ndFlrSF is not related with Year\n",
            "LowQualFinSF is not related with Year\n",
            "GrLivArea is not related with Year\n",
            "BsmtFullBath is not related with Year\n",
            "BsmtHalfBath is not related with Year\n",
            "FullBath is not related with Year\n",
            "HalfBath is not related with Year\n",
            "BedroomAbvGr is not related with Year\n",
            "KitchenAbvGr is not related with Year\n",
            "TotRmsAbvGrd is not related with Year\n",
            "Fireplaces is not related with Year\n",
            "GarageCars is not related with Year\n",
            "GarageArea is not related with Year\n",
            "WoodDeckSF is not related with Year\n",
            "OpenPorchSF is not related with Year\n",
            "EnclosedPorch is not related with Year\n",
            "3SsnPorch is not related with Year\n",
            "ScreenPorch is not related with Year\n",
            "PoolArea is not related with Year\n",
            "MiscVal is not related with Year\n",
            "MoSold is not related with Year\n",
            "['YearBuilt', 'YearRemodAdd', 'GarageYrBlt', 'YrSold']\n"
          ]
        }
      ]
    },
    {
      "cell_type": "markdown",
      "metadata": {
        "id": "pSaq5Qlsrtxm"
      },
      "source": [
        "- 해당 데이터를 히트맵으로 시각화한다."
      ]
    },
    {
      "cell_type": "code",
      "metadata": {
        "colab": {
          "base_uri": "https://localhost:8080/",
          "height": 441
        },
        "id": "4g9YWWRCr2RH",
        "outputId": "0ef01342-600e-4543-e900-e2d23e4ee5af"
      },
      "source": [
        "fig, ax = plt.subplots(3, 1, figsize=(10, 6), sharex=True, sharey=True)\n",
        "for i, var in enumerate(year_feature):\n",
        "  if var != 'YrSold':\n",
        "    ax[i].scatter(train[var], y, alpha=0.3)\n",
        "    ax[i].set_title('{}'.format(var), size=15)\n",
        "    ax[i].set_ylabel('SalePrice', size=15, labelpad=12.5)\n",
        "plt.tight_layout()\n",
        "plt.show()"
      ],
      "execution_count": 26,
      "outputs": [
        {
          "output_type": "display_data",
          "data": {
            "image/png": "[encoded data removed]",
            "text/plain": [
              "<Figure size 720x432 with 3 Axes>"
            ]
          },
          "metadata": {
            "needs_background": "light"
          }
        }
      ]
    },
    {
      "cell_type": "markdown",
      "metadata": {
        "id": "Fby7xatNr888"
      },
      "source": [
        "- 해당 데이터에서 리모델링 데이터를 드롭해준다."
      ]
    },
    {
      "cell_type": "code",
      "metadata": {
        "colab": {
          "base_uri": "https://localhost:8080/"
        },
        "id": "4SkKvPfrsCVA",
        "outputId": "2816926a-9400-4bd4-d07e-610178f2e5c1"
      },
      "source": [
        "all_df = all_df.drop(['YearBuilt', 'GarageYrBlt'], axis=1)\n",
        "print(all_df.shape)"
      ],
      "execution_count": 27,
      "outputs": [
        {
          "output_type": "stream",
          "name": "stdout",
          "text": [
            "(2917, 71)\n"
          ]
        }
      ]
    },
    {
      "cell_type": "code",
      "metadata": {
        "colab": {
          "base_uri": "https://localhost:8080/",
          "height": 374
        },
        "id": "8ZmIE6P3sIkm",
        "outputId": "cc0ed3fb-d4c6-4e5b-cecd-32e133f7aab1"
      },
      "source": [
        "YearsSinceRemodel = train['YrSold'].astype(int) - train['YearRemodAdd'].astype(int)\n",
        "\n",
        "fig, ax = plt.subplots(figsize=(10, 6))\n",
        "ax.scatter(YearsSinceRemodel, y, alpha=0.3)\n",
        "fig.show()"
      ],
      "execution_count": 28,
      "outputs": [
        {
          "output_type": "display_data",
          "data": {
            "image/png": "[encoded data removed]",
            "text/plain": [
              "<Figure size 720x432 with 1 Axes>"
            ]
          },
          "metadata": {
            "needs_background": "light"
          }
        }
      ]
    },
    {
      "cell_type": "code",
      "metadata": {
        "id": "zHnR7JFfsY6R"
      },
      "source": [
        "all_df['YearsSinceRemodel'] = all_df['YrSold'].astype(int) - all_df['YearRemodAdd'].astype(int)\n",
        "all_df = all_df.drop(['YrSold', 'YearRemodAdd'], axis=1)\n",
        "print(all_df.shape)all_df['YearsSinceRemodel'] = all_df['YrSold'].astype(int) - all_df['YearRemodAdd'].astype(int)\n",
        "all_df = all_df.drop(['YrSold', 'YearRemodAdd'], axis=1)\n",
        "print(all_df.shape)"
      ],
      "execution_count": null,
      "outputs": []
    },
    {
      "cell_type": "markdown",
      "metadata": {
        "id": "BVMg8lEGsZry"
      },
      "source": [
        "### 더미변수"
      ]
    },
    {
      "cell_type": "code",
      "metadata": {
        "colab": {
          "base_uri": "https://localhost:8080/"
        },
        "id": "WHsZNEn_scmu",
        "outputId": "5a7b8255-8b8d-4a5b-801f-0b596366da4f"
      },
      "source": [
        "all_df['PoolArea'].value_counts()"
      ],
      "execution_count": 29,
      "outputs": [
        {
          "output_type": "execute_result",
          "data": {
            "text/plain": [
              "0.000000    2904\n",
              "4.721829       1\n",
              "5.913421       1\n",
              "6.161330       1\n",
              "5.854879       1\n",
              "5.786591       1\n",
              "5.553561       1\n",
              "5.843016       1\n",
              "6.048366       1\n",
              "5.130821       1\n",
              "6.231252       1\n",
              "5.945809       1\n",
              "5.922801       1\n",
              "5.718338       1\n",
              "Name: PoolArea, dtype: int64"
            ]
          },
          "metadata": {},
          "execution_count": 29
        }
      ]
    },
    {
      "cell_type": "code",
      "metadata": {
        "id": "C7mLmWu5sgOT"
      },
      "source": [
        "def count_dummy(x):\n",
        "  if x > 0:\n",
        "    return 1\n",
        "  else:\n",
        "    return 0"
      ],
      "execution_count": 30,
      "outputs": []
    },
    {
      "cell_type": "code",
      "metadata": {
        "colab": {
          "base_uri": "https://localhost:8080/"
        },
        "id": "xFaYZCQAsiHb",
        "outputId": "bc0b4a19-d256-4c50-f826-3c5fe71124dc"
      },
      "source": [
        "all_df['PoolArea'] = all_df['PoolArea'].apply(count_dummy)\n",
        "all_df['PoolArea'].value_counts()"
      ],
      "execution_count": 31,
      "outputs": [
        {
          "output_type": "execute_result",
          "data": {
            "text/plain": [
              "0    2904\n",
              "1      13\n",
              "Name: PoolArea, dtype: int64"
            ]
          },
          "metadata": {},
          "execution_count": 31
        }
      ]
    },
    {
      "cell_type": "code",
      "metadata": {
        "colab": {
          "base_uri": "https://localhost:8080/"
        },
        "id": "KdlSzWmvskVE",
        "outputId": "24d50883-5a7f-45c1-9298-cb1097115014"
      },
      "source": [
        "all_df['GarageArea'] = all_df['GarageArea'].apply(count_dummy)\n",
        "all_df['GarageArea'].value_counts()"
      ],
      "execution_count": 32,
      "outputs": [
        {
          "output_type": "execute_result",
          "data": {
            "text/plain": [
              "1    2760\n",
              "0     157\n",
              "Name: GarageArea, dtype: int64"
            ]
          },
          "metadata": {},
          "execution_count": 32
        }
      ]
    },
    {
      "cell_type": "code",
      "metadata": {
        "colab": {
          "base_uri": "https://localhost:8080/"
        },
        "id": "Yr-AMWrUsmDl",
        "outputId": "ca287977-c5e1-4ab2-d985-2afc79a695eb"
      },
      "source": [
        "all_df['Fireplaces'] = all_df['Fireplaces'].apply(count_dummy)\n",
        "all_df['Fireplaces'].value_counts()"
      ],
      "execution_count": 33,
      "outputs": [
        {
          "output_type": "execute_result",
          "data": {
            "text/plain": [
              "1    1497\n",
              "0    1420\n",
              "Name: Fireplaces, dtype: int64"
            ]
          },
          "metadata": {},
          "execution_count": 33
        }
      ]
    },
    {
      "cell_type": "markdown",
      "metadata": {
        "id": "gkEMOH6LsoIO"
      },
      "source": [
        "### 문자열 데이터를 변환해준다(Label Encoding, Ordinal Encoding, One-Hot Encoding)"
      ]
    },
    {
      "cell_type": "code",
      "metadata": {
        "colab": {
          "base_uri": "https://localhost:8080/"
        },
        "id": "VfwnsyF7ss_6",
        "outputId": "ffdd1d04-e138-4330-9ebc-72180871f37b"
      },
      "source": [
        "from sklearn.preprocessing import LabelEncoder\n",
        "import pandas as pd\n",
        "\n",
        "temp = pd.DataFrame({'Food_Name': ['Apple', 'Chicken', 'Broccoli'], \n",
        "                     'Calories': [95, 231, 50]})\n",
        "\n",
        "encoder = LabelEncoder()\n",
        "encoder.fit(temp['Food_Name'])\n",
        "labels = encoder.transform(temp['Food_Name'])\n",
        "print(list(temp['Food_Name']), \"==>\", labels)"
      ],
      "execution_count": 34,
      "outputs": [
        {
          "output_type": "stream",
          "name": "stdout",
          "text": [
            "['Apple', 'Chicken', 'Broccoli'] ==> [0 2 1]\n"
          ]
        }
      ]
    },
    {
      "cell_type": "code",
      "metadata": {
        "colab": {
          "base_uri": "https://localhost:8080/"
        },
        "id": "yRK1T3REsuZo",
        "outputId": "dcce5857-8b12-409a-b6a1-b1892be8f3cc"
      },
      "source": [
        "from sklearn.preprocessing import OrdinalEncoder\n",
        "import pandas as pd\n",
        "\n",
        "temp = pd.DataFrame({'Food_Name': ['Apple', 'Chicken', 'Broccoli'], \n",
        "                     'Calories': [95, 231, 50]})\n",
        "\n",
        "encoder = OrdinalEncoder()\n",
        "labels = encoder.fit_transform(temp[['Food_Name']])\n",
        "print(list(temp['Food_Name']), \"==>\", labels.tolist())"
      ],
      "execution_count": 35,
      "outputs": [
        {
          "output_type": "stream",
          "name": "stdout",
          "text": [
            "['Apple', 'Chicken', 'Broccoli'] ==> [[0.0], [2.0], [1.0]]\n"
          ]
        }
      ]
    },
    {
      "cell_type": "code",
      "metadata": {
        "colab": {
          "base_uri": "https://localhost:8080/"
        },
        "id": "S_zdK4PSsw9s",
        "outputId": "4a2b6f80-6496-49dc-b450-caec0d3c2104"
      },
      "source": [
        "import pandas as pd\n",
        "temp = pd.DataFrame({'Food_Name': ['Apple', 'Chicken', 'Broccoli'], \n",
        "                     'Calories': [95, 231, 50]})\n",
        "\n",
        "temp[['Food_No']] = temp.Food_Name.replace(to_replace = ['Chicken', 'Broccoli', 'Apple'], \n",
        "                       value = [1, 2, 3])\n",
        "\n",
        "print(temp[['Food_Name', 'Food_No']])"
      ],
      "execution_count": 36,
      "outputs": [
        {
          "output_type": "stream",
          "name": "stdout",
          "text": [
            "  Food_Name  Food_No\n",
            "0     Apple        3\n",
            "1   Chicken        1\n",
            "2  Broccoli        2\n"
          ]
        }
      ]
    },
    {
      "cell_type": "code",
      "metadata": {
        "colab": {
          "base_uri": "https://localhost:8080/"
        },
        "id": "3UqYrz9KsyYu",
        "outputId": "c811382d-4207-41ce-a064-8877df5302e6"
      },
      "source": [
        "import pandas as pd\n",
        "\n",
        "temp = pd.DataFrame({'Food_Name': ['Apple', 'Chicken', 'Broccoli'], \n",
        "                     'Calories': [95, 231, 50]})\n",
        "\n",
        "temp = pd.get_dummies(temp)\n",
        "print(temp)\n",
        "print(temp.shape)"
      ],
      "execution_count": 37,
      "outputs": [
        {
          "output_type": "stream",
          "name": "stdout",
          "text": [
            "   Calories  Food_Name_Apple  Food_Name_Broccoli  Food_Name_Chicken\n",
            "0        95                1                   0                  0\n",
            "1       231                0                   0                  1\n",
            "2        50                0                   1                  0\n",
            "(3, 4)\n"
          ]
        }
      ]
    },
    {
      "cell_type": "code",
      "metadata": {
        "colab": {
          "base_uri": "https://localhost:8080/"
        },
        "id": "DItXTG5bs0sG",
        "outputId": "2ca08387-d0a7-4bd3-9403-4ddb9e60884d"
      },
      "source": [
        "all_df = pd.get_dummies(all_df).reset_index(drop=True)\n",
        "all_df.shape"
      ],
      "execution_count": 38,
      "outputs": [
        {
          "output_type": "execute_result",
          "data": {
            "text/plain": [
              "(2917, 267)"
            ]
          },
          "metadata": {},
          "execution_count": 38
        }
      ]
    },
    {
      "cell_type": "markdown",
      "metadata": {
        "id": "_qhMj_18s2Bn"
      },
      "source": [
        "## 머신러닝 모형 학습 및 평가"
      ]
    },
    {
      "cell_type": "markdown",
      "metadata": {
        "id": "O1Z_AGn-s5AA"
      },
      "source": [
        "### 데이터셋 분리 및 교차 검증"
      ]
    },
    {
      "cell_type": "code",
      "metadata": {
        "colab": {
          "base_uri": "https://localhost:8080/"
        },
        "id": "djv3Y7NptcZ1",
        "outputId": "3b13946e-d378-414e-f27f-cdf80be64baa"
      },
      "source": [
        "X = all_df.iloc[:len(y), :]\n",
        "X_test = all_df.iloc[len(y):, :]\n",
        "X.shape, y.shape, X_test.shape"
      ],
      "execution_count": 39,
      "outputs": [
        {
          "output_type": "execute_result",
          "data": {
            "text/plain": [
              "((1458, 267), (1458,), (1459, 267))"
            ]
          },
          "metadata": {},
          "execution_count": 39
        }
      ]
    },
    {
      "cell_type": "code",
      "metadata": {
        "colab": {
          "base_uri": "https://localhost:8080/"
        },
        "id": "pDKy2_lHtdcc",
        "outputId": "1b14bb70-461f-4d48-e3a2-289f779f52e6"
      },
      "source": [
        "from sklearn.model_selection import train_test_split\n",
        "X_train, X_test, y_train, y_test = train_test_split(X, y, test_size = 0.25, random_state = 0)\n",
        "X_train.shape, X_test.shape, y_train.shape, y_test.shape"
      ],
      "execution_count": 40,
      "outputs": [
        {
          "output_type": "execute_result",
          "data": {
            "text/plain": [
              "((1093, 267), (365, 267), (1093,), (365,))"
            ]
          },
          "metadata": {},
          "execution_count": 40
        }
      ]
    },
    {
      "cell_type": "markdown",
      "metadata": {
        "id": "oNIGnTGNYvjB"
      },
      "source": [
        "- 평가지표"
      ]
    },
    {
      "cell_type": "markdown",
      "metadata": {
        "id": "xgz1BebeY19K"
      },
      "source": [
        "   1. MAE"
      ]
    },
    {
      "cell_type": "code",
      "metadata": {
        "id": "60ohke2kte_I"
      },
      "source": [
        "import numpy as np\n",
        "\n",
        "def mean_absolute_error(y_true, y_pred):\n",
        "\n",
        "  error = 0\n",
        "  for yt, yp in zip(y_true, y_pred):\n",
        "    error = error + np.abs(yt-yp)\n",
        "  \n",
        "  mae = error / len(y_true)\n",
        "  return mae"
      ],
      "execution_count": 41,
      "outputs": []
    },
    {
      "cell_type": "markdown",
      "metadata": {
        "id": "REpZiAv6Y5Gb"
      },
      "source": [
        "   2. MSE"
      ]
    },
    {
      "cell_type": "code",
      "metadata": {
        "id": "aCNjQFy9th2W"
      },
      "source": [
        "import numpy as np\n",
        "\n",
        "def mean_squared_error(y_true, y_pred):\n",
        "\n",
        "  error = 0\n",
        "  for yt, yp in zip(y_true, y_pred):\n",
        "    error = error + (yt - yp) ** 2\n",
        "  \n",
        "  mse = error / len(y_true)\n",
        "  return mse"
      ],
      "execution_count": 42,
      "outputs": []
    },
    {
      "cell_type": "markdown",
      "metadata": {
        "id": "dOzfRC6CY7iD"
      },
      "source": [
        "   3. RMSE"
      ]
    },
    {
      "cell_type": "code",
      "metadata": {
        "id": "elpz54Z6t0El"
      },
      "source": [
        "import numpy as np\n",
        "\n",
        "def root_rmse_squared_error(y_true, ypred):\n",
        "  error = 0\n",
        "  \n",
        "  for yt, yp in zip(y_true, y_pred):\n",
        "    error = error + (yt - yp) ** 2\n",
        "  \n",
        "  mse = error / len(y_true)\n",
        "  rmse = np.round(np.sqrt(mse), 3)\n",
        "  return rmse"
      ],
      "execution_count": 43,
      "outputs": []
    },
    {
      "cell_type": "markdown",
      "metadata": {
        "id": "Xy7eYxjqZHZL"
      },
      "source": [
        "   4. TEST1"
      ]
    },
    {
      "cell_type": "code",
      "metadata": {
        "colab": {
          "base_uri": "https://localhost:8080/"
        },
        "id": "TLi-Wl2Wt1ec",
        "outputId": "a41bf54d-02fe-41b8-ffac-f0c607bebd2f"
      },
      "source": [
        "y_true = [400, 300, 800]\n",
        "y_pred = [380, 320, 777]\n",
        "\n",
        "print(\"MAE:\", mean_absolute_error(y_true, y_pred))\n",
        "print(\"MSE:\", mean_squared_error(y_true, y_pred))\n",
        "print(\"RMSE:\", root_rmse_squared_error(y_true, y_pred))"
      ],
      "execution_count": 44,
      "outputs": [
        {
          "output_type": "stream",
          "name": "stdout",
          "text": [
            "MAE: 21.0\n",
            "MSE: 443.0\n",
            "RMSE: 21.048\n"
          ]
        }
      ]
    },
    {
      "cell_type": "markdown",
      "metadata": {
        "id": "VdtVMlIoZMcT"
      },
      "source": [
        "   5. TEST2"
      ]
    },
    {
      "cell_type": "code",
      "metadata": {
        "colab": {
          "base_uri": "https://localhost:8080/"
        },
        "id": "BT6ewKeit23G",
        "outputId": "11d9eaf5-ff9e-40e5-d430-fe2dd20472e2"
      },
      "source": [
        "y_true = [400, 300, 800, 900]\n",
        "y_pred = [380, 320, 777, 600]\n",
        "\n",
        "print(\"MAE:\", mean_absolute_error(y_true, y_pred))\n",
        "print(\"MSE:\", mean_squared_error(y_true, y_pred))\n",
        "print(\"RMSE:\", root_rmse_squared_error(y_true, y_pred))"
      ],
      "execution_count": 45,
      "outputs": [
        {
          "output_type": "stream",
          "name": "stdout",
          "text": [
            "MAE: 90.75\n",
            "MSE: 22832.25\n",
            "RMSE: 151.103\n"
          ]
        }
      ]
    },
    {
      "cell_type": "markdown",
      "metadata": {
        "id": "pz4LL6NhZRO4"
      },
      "source": [
        "   6. RMSE with Sklean"
      ]
    },
    {
      "cell_type": "code",
      "metadata": {
        "id": "e0nzX_7Jt4Fa"
      },
      "source": [
        "from sklearn.metrics import mean_squared_error\n",
        "\n",
        "def rmsle(y_true, y_pred):\n",
        "    return np.sqrt(mean_squared_error(y_true, y_pred))"
      ],
      "execution_count": 46,
      "outputs": []
    },
    {
      "cell_type": "markdown",
      "metadata": {
        "id": "hgYM5ljCZcWZ"
      },
      "source": [
        "   - 모형 정의 및 검증 평가"
      ]
    },
    {
      "cell_type": "code",
      "metadata": {
        "id": "J3A7l3let6A4"
      },
      "source": [
        "from sklearn.metrics import mean_squared_error\n",
        "from sklearn.model_selection import KFold, cross_val_score\n",
        "from sklearn.linear_model import LinearRegression\n",
        "\n",
        "def cv_rmse(model, n_folds=5):\n",
        "    cv = KFold(n_splits=n_folds, random_state=42, shuffle=True)\n",
        "    rmse_list = np.sqrt(-cross_val_score(model, X, y, scoring='neg_mean_squared_error', cv=cv))\n",
        "    print('CV RMSE value list:', np.round(rmse_list, 4))\n",
        "    print('CV RMSE mean value:', np.round(np.mean(rmse_list), 4))\n",
        "    return (rmse_list)\n",
        "\n",
        "n_folds = 5\n",
        "rmse_scores = {}\n",
        "lr_model = LinearRegression()"
      ],
      "execution_count": 47,
      "outputs": []
    },
    {
      "cell_type": "code",
      "metadata": {
        "colab": {
          "base_uri": "https://localhost:8080/"
        },
        "id": "vneOqf6bt8G-",
        "outputId": "c0dc42d1-d2f9-4be7-8ab7-2089906414b3"
      },
      "source": [
        "score = cv_rmse(lr_model, n_folds)\n",
        "print(\"linear regression - mean: {:.4f} (std: {:.4f})\".format(score.mean(), score.std()))\n",
        "rmse_scores['linear regression'] = (score.mean(), score.std())"
      ],
      "execution_count": 48,
      "outputs": [
        {
          "output_type": "stream",
          "name": "stdout",
          "text": [
            "CV RMSE value list: [0.1399 0.1774 0.1514 0.1103 0.1059]\n",
            "CV RMSE mean value: 0.137\n",
            "linear regression - mean: 0.1370 (std: 0.0266)\n"
          ]
        }
      ]
    },
    {
      "cell_type": "markdown",
      "metadata": {
        "id": "CxKYJ7bTZgBb"
      },
      "source": [
        " - 첫 번째 최종 예측 값 제출"
      ]
    },
    {
      "cell_type": "code",
      "metadata": {
        "colab": {
          "base_uri": "https://localhost:8080/"
        },
        "id": "j2-tqjUlt_Cu",
        "outputId": "b05da4dd-dd9c-4d55-ab2d-77b46d469622"
      },
      "source": [
        "from sklearn.model_selection import cross_val_predict\n",
        "\n",
        "X = all_df.iloc[:len(y), :]\n",
        "X_test = all_df.iloc[len(y):, :]\n",
        "X.shape, y.shape, X_test.shape\n",
        "\n",
        "lr_model_fit = lr_model.fit(X, y)\n",
        "final_preds = np.floor(np.expm1(lr_model_fit.predict(X_test)))\n",
        "print(final_preds)"
      ],
      "execution_count": 49,
      "outputs": [
        {
          "output_type": "stream",
          "name": "stdout",
          "text": [
            "[118145. 158483. 187263. ... 176406. 116009. 217705.]\n"
          ]
        }
      ]
    },
    {
      "cell_type": "code",
      "metadata": {
        "colab": {
          "base_uri": "https://localhost:8080/"
        },
        "id": "RE-WEWrXuAsM",
        "outputId": "349abb24-6b0e-4cc3-8515-68b645f1f92f"
      },
      "source": [
        "submission = pd.read_csv(\"sample_submission.csv\")\n",
        "submission.iloc[:,1] = final_preds\n",
        "print(submission.head())\n",
        "submission.to_csv(\"The_first_regression.csv\", index=False)"
      ],
      "execution_count": 50,
      "outputs": [
        {
          "output_type": "stream",
          "name": "stdout",
          "text": [
            "     Id  SalePrice\n",
            "0  1461   118145.0\n",
            "1  1462   158483.0\n",
            "2  1463   187263.0\n",
            "3  1464   197385.0\n",
            "4  1465   200573.0\n"
          ]
        }
      ]
    }
  ]
}