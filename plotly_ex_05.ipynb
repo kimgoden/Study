{
 "cells": [
  {
   "cell_type": "code",
   "execution_count": 17,
   "metadata": {
    "_cell_guid": "b1076dfc-b9ad-4769-8c92-a6c4dae69d19",
    "_uuid": "8f2839f25d086af736a60e9eeb907d3b93b6e0e5",
    "execution": {
     "iopub.execute_input": "2021-11-11T01:25:34.161438Z",
     "iopub.status.busy": "2021-11-11T01:25:34.161144Z",
     "iopub.status.idle": "2021-11-11T01:25:37.418779Z",
     "shell.execute_reply": "2021-11-11T01:25:37.417864Z",
     "shell.execute_reply.started": "2021-11-11T01:25:34.161409Z"
    }
   },
   "outputs": [],
   "source": [
    "\n",
    "import numpy as np # linear algebra\n",
    "import pandas as pd # data processing, CSV file I/O (e.g. pd.read_csv)\n",
    "import plotly.express as px\n",
    "\n",
    "df = pd.read_csv('../input/kaggle-survey-2021/kaggle_survey_2021_responses.csv', low_memory=False)\n",
    "\n"
   ]
  },
  {
   "cell_type": "code",
   "execution_count": 3,
   "metadata": {
    "execution": {
     "iopub.execute_input": "2021-11-11T01:17:02.655481Z",
     "iopub.status.busy": "2021-11-11T01:17:02.655185Z",
     "iopub.status.idle": "2021-11-11T01:17:02.669583Z",
     "shell.execute_reply": "2021-11-11T01:17:02.668356Z",
     "shell.execute_reply.started": "2021-11-11T01:17:02.655452Z"
    }
   },
   "outputs": [],
   "source": [
    "questions = df.iloc[0, :].T\n",
    "questions"
   ]
  },
  {
   "cell_type": "code",
   "execution_count": 6,
   "metadata": {
    "execution": {
     "iopub.execute_input": "2021-11-11T01:18:22.892932Z",
     "iopub.status.busy": "2021-11-11T01:18:22.892299Z",
     "iopub.status.idle": "2021-11-11T01:18:23.372631Z",
     "shell.execute_reply": "2021-11-11T01:18:23.371518Z",
     "shell.execute_reply.started": "2021-11-11T01:18:22.892895Z"
    }
   },
   "outputs": [],
   "source": [
    "df = df.iloc[1:, :].reset_index(drop = True)\n",
    "df.head()"
   ]
  },
  {
   "cell_type": "code",
   "execution_count": 25,
   "metadata": {
    "execution": {
     "iopub.execute_input": "2021-11-11T02:38:28.646250Z",
     "iopub.status.busy": "2021-11-11T02:38:28.645922Z",
     "iopub.status.idle": "2021-11-11T02:38:30.284310Z",
     "shell.execute_reply": "2021-11-11T02:38:30.283495Z",
     "shell.execute_reply.started": "2021-11-11T02:38:28.646203Z"
    }
   },
   "outputs": [],
   "source": [
    "countries = df.iloc[:, 3]\n",
    "# countries에 df의 4번째 열('Q3')을 반환해준다\n",
    "country_counts = (countries.value_counts().reset_index()).rename(columns = {'index':'Country','Q3': 'Count'})\n",
    "#country_counts 에 countries의 횟수를 넣어주고 reset_index()) 한 후에 리네임으로 1행  =index 1열=Country , 2행 =Q3, 2열=Count 로 바꿔준다\n",
    "country_counts['Country']=country_counts['Country'].replace('Viet Nam', 'Vietnam')\n",
    "#country_counts의 Country에 있는 Viet Nam 을 .replace를 통해 Vietnam으로 바꿔주고 반환해준다. \n",
    "df.head()\n",
    "\n",
    "from urllib.request import urlopen\n",
    "#urllib 패키지를 통해 인터넷 소스를 가져 올 수 있게 한다.\n",
    "import json\n",
    "# 자바스크립트 기반으로 작성환 텍스트 데이터 포맷중 하나.\n",
    "with urlopen('https://raw.githubusercontent.com/plotly/datasets/master/geojson-counties-fips.json') as response:\n",
    "    counties = json.load(response)\n",
    "# urlopen을 통해 해당 웹페이지의 데이터를 .json 형식으로 받아온다.\n",
    "info = pd.read_csv('https://raw.githubusercontent.com/plotly/datasets/master/2014_world_gdp_with_codes.csv')\n",
    "# info에 지도를 그리기 위한 csv값을 반환해준다.\n",
    "di = {}\n",
    "# 딕셔너리 생성\n",
    "for _,row in info.iterrows():\n",
    "    di[row['COUNTRY']]=row['CODE']\n",
    " #info에 반환받은 각 국가의 CODE 값과 COUNTRY리를 새로운 di에 넣어준다.\n",
    "count=0\n",
    "n=[]\n",
    "c=[]\n",
    "code=[]\n",
    "for key, value in di.items():\n",
    "    for _,row in country_counts.iterrows():\n",
    "        if key in row['Country']:\n",
    "            count=count+1\n",
    "            n.append(key)\n",
    "            c.append(row['Count'])\n",
    "            code.append(value)\n",
    "\n",
    "dfc=pd.DataFrame()\n",
    "dfc['Country']=n\n",
    "dfc['Count']=c\n",
    "dfc['Code']=code\n",
    "\n",
    "dfcn = pd.pivot_table(dfc, index=['Country'],values=['Count'],aggfunc='sum').reset_index()\n",
    "dfc.drop('Count', axis=1, inplace=True)\n",
    "dfcn = pd.merge(left=dfcn, right=dfc, on='Country')\n",
    "\n",
    "dfcn =dfcn.sort_values(by=\"Count\")\n",
    "dfcn.drop_duplicates(inplace=True)\n"
   ]
  },
  {
   "cell_type": "code",
   "execution_count": null,
   "metadata": {},
   "outputs": [],
   "source": []
  },
  {
   "cell_type": "code",
   "execution_count": null,
   "metadata": {},
   "outputs": [],
   "source": []
  },
  {
   "cell_type": "code",
   "execution_count": 26,
   "metadata": {
    "execution": {
     "iopub.execute_input": "2021-11-11T02:38:42.545528Z",
     "iopub.status.busy": "2021-11-11T02:38:42.544875Z",
     "iopub.status.idle": "2021-11-11T02:38:42.558055Z",
     "shell.execute_reply": "2021-11-11T02:38:42.557153Z",
     "shell.execute_reply.started": "2021-11-11T02:38:42.545484Z"
    }
   },
   "outputs": [],
   "source": [
    " info.head()"
   ]
  },
  {
   "cell_type": "code",
   "execution_count": 21,
   "metadata": {
    "execution": {
     "iopub.execute_input": "2021-11-11T01:41:51.992909Z",
     "iopub.status.busy": "2021-11-11T01:41:51.992486Z",
     "iopub.status.idle": "2021-11-11T01:41:52.067447Z",
     "shell.execute_reply": "2021-11-11T01:41:52.066821Z",
     "shell.execute_reply.started": "2021-11-11T01:41:51.992876Z"
    }
   },
   "outputs": [],
   "source": [
    "fig = px.bar(dfcn, x='Country', y='Count', height=600, color='Count', color_continuous_scale='pinkyl', template='plotly_white')\n",
    "fig.update_xaxes(type='category')\n",
    "fig.update_layout(title={\n",
    "        'text': \"Country wise user count\",\n",
    "        'x':0.5,\n",
    "        'xanchor': 'center',\n",
    "        'yanchor': 'top'})\n",
    "fig.show()"
   ]
  },
  {
   "cell_type": "code",
   "execution_count": 19,
   "metadata": {
    "execution": {
     "iopub.execute_input": "2021-11-11T01:26:17.004017Z",
     "iopub.status.busy": "2021-11-11T01:26:17.003731Z",
     "iopub.status.idle": "2021-11-11T01:26:17.105938Z",
     "shell.execute_reply": "2021-11-11T01:26:17.105144Z",
     "shell.execute_reply.started": "2021-11-11T01:26:17.003985Z"
    }
   },
   "outputs": [],
   "source": [
    "fig = px.choropleth(dfcn, locations='Code', color='Count', color_continuous_scale='pinkyl',\n",
    "                    hover_name=\"Country\", template='plotly_white',\n",
    "                    hover_data={\n",
    "                        'Code':False\n",
    "                    })\n",
    "fig.update_layout(title={\n",
    "        'text': \"Demographic distribution of Users\",\n",
    "        'x':0.5,\n",
    "        'xanchor': 'center',\n",
    "        'yanchor': 'top'},dragmode=False)\n",
    "fig.show()"
   ]
  }
 ],
 "metadata": {
  "kernelspec": {
   "display_name": "Python 3",
   "language": "python",
   "name": "python3"
  },
  "language_info": {
   "codemirror_mode": {
    "name": "ipython",
    "version": 3
   },
   "file_extension": ".py",
   "mimetype": "text/x-python",
   "name": "python",
   "nbconvert_exporter": "python",
   "pygments_lexer": "ipython3",
   "version": "3.8.8"
  }
 },
 "nbformat": 4,
 "nbformat_minor": 4
}
