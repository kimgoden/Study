{
 "cells": [
  {
   "cell_type": "code",
   "execution_count": 2,
   "metadata": {
    "id": "437A3gyyQjiZ"
   },
   "outputs": [],
   "source": [
    "import numpy as np\n"
   ]
  },
  {
   "cell_type": "code",
   "execution_count": 1,
   "metadata": {
    "colab": {
     "base_uri": "https://localhost:8080/"
    },
    "id": "hGfO01SeQEgS",
    "outputId": "fcdd60db-2337-48a7-8053-96d424cf33ae"
   },
   "outputs": [
    {
     "data": {
      "text/plain": [
       "[1, 2, 3, 4, 5]"
      ]
     },
     "execution_count": 1,
     "metadata": {},
     "output_type": "execute_result"
    }
   ],
   "source": [
    "data1 = [1,2,3,4,5]\n",
    "data1"
   ]
  },
  {
   "cell_type": "code",
   "execution_count": 2,
   "metadata": {
    "colab": {
     "base_uri": "https://localhost:8080/"
    },
    "id": "qANb_0lOQVD5",
    "outputId": "f7ab45f7-7906-40eb-a5c5-1f5447d43eec"
   },
   "outputs": [
    {
     "data": {
      "text/plain": [
       "[1, 2, 3, 4, 5]"
      ]
     },
     "execution_count": 2,
     "metadata": {},
     "output_type": "execute_result"
    }
   ],
   "source": [
    "data2 = [1,2,3,4,5]\n",
    "data2"
   ]
  },
  {
   "cell_type": "code",
   "execution_count": 6,
   "metadata": {
    "colab": {
     "base_uri": "https://localhost:8080/"
    },
    "id": "svCZTi-2QY97",
    "outputId": "eb0592dc-a29d-4504-844c-b9692850be5d"
   },
   "outputs": [
    {
     "data": {
      "text/plain": [
       "array([1, 2, 3, 4, 5])"
      ]
     },
     "execution_count": 6,
     "metadata": {},
     "output_type": "execute_result"
    }
   ],
   "source": [
    "arr1 = np.array(data1)\n",
    "arr1"
   ]
  },
  {
   "cell_type": "code",
   "execution_count": 7,
   "metadata": {
    "colab": {
     "base_uri": "https://localhost:8080/"
    },
    "id": "MqRWNyfhQq0r",
    "outputId": "d7295c13-b7d3-4ad6-e2df-ecdfc9e46437"
   },
   "outputs": [
    {
     "data": {
      "text/plain": [
       "(5,)"
      ]
     },
     "execution_count": 7,
     "metadata": {},
     "output_type": "execute_result"
    }
   ],
   "source": [
    "arr1.shape\n",
    "# 넘파이의 배열의 길이를 튜플 형식으로 나타내준다."
   ]
  },
  {
   "cell_type": "code",
   "execution_count": 10,
   "metadata": {
    "colab": {
     "base_uri": "https://localhost:8080/"
    },
    "id": "Ge42Tid1RC6q",
    "outputId": "b6848f57-a84f-4af8-aa27-7a7e8e4f63fb"
   },
   "outputs": [
    {
     "data": {
      "text/plain": [
       "dtype('int64')"
      ]
     },
     "execution_count": 10,
     "metadata": {},
     "output_type": "execute_result"
    }
   ],
   "source": [
    "arr1.dtype\n",
    "# 넘파이 배열의 값의 자료형을 나타내준다."
   ]
  },
  {
   "cell_type": "code",
   "execution_count": 9,
   "metadata": {
    "colab": {
     "base_uri": "https://localhost:8080/"
    },
    "id": "AIuq90wPQu4D",
    "outputId": "873f73e7-d5b4-4d53-dbb2-800a6208e11a"
   },
   "outputs": [
    {
     "data": {
      "text/plain": [
       "array([1, 2, 3, 4, 5])"
      ]
     },
     "execution_count": 9,
     "metadata": {},
     "output_type": "execute_result"
    }
   ],
   "source": [
    "arr2 = np.array([1,2,3,4,5]) \n",
    "arr2\n",
    "# 1차원 데이터"
   ]
  },
  {
   "cell_type": "code",
   "execution_count": 11,
   "metadata": {
    "colab": {
     "base_uri": "https://localhost:8080/"
    },
    "id": "F1dHMezsRSTo",
    "outputId": "938faf4d-a4aa-4ce0-d532-87605b9076a2"
   },
   "outputs": [
    {
     "data": {
      "text/plain": [
       "array([1, 2, 3, 4, 5])"
      ]
     },
     "execution_count": 11,
     "metadata": {},
     "output_type": "execute_result"
    }
   ],
   "source": [
    "arr3 = np.array(data2)\n",
    "arr3"
   ]
  },
  {
   "cell_type": "code",
   "execution_count": 14,
   "metadata": {
    "colab": {
     "base_uri": "https://localhost:8080/"
    },
    "id": "hHSc7VFDRV7t",
    "outputId": "8e1edc07-7e81-4c8e-dec5-d6ae88174689"
   },
   "outputs": [
    {
     "data": {
      "text/plain": [
       "array([[ 1,  2,  3],\n",
       "       [ 4,  5,  6],\n",
       "       [ 7,  8,  9],\n",
       "       [10, 11, 12]])"
      ]
     },
     "execution_count": 14,
     "metadata": {},
     "output_type": "execute_result"
    }
   ],
   "source": [
    "arr4 = np.array([[1,2,3],[4,5,6],[7,8,9],[10,11,12]])\n",
    "arr4\n",
    "# 2차원 데이터\n"
   ]
  },
  {
   "cell_type": "code",
   "execution_count": 15,
   "metadata": {
    "colab": {
     "base_uri": "https://localhost:8080/"
    },
    "id": "ww5ecpPiRek4",
    "outputId": "3c2c21d5-ecc0-427e-8120-6eaa738dfebf"
   },
   "outputs": [
    {
     "data": {
      "text/plain": [
       "(4, 3)"
      ]
     },
     "execution_count": 15,
     "metadata": {},
     "output_type": "execute_result"
    }
   ],
   "source": [
    "arr4.shape"
   ]
  },
  {
   "cell_type": "code",
   "execution_count": 16,
   "metadata": {
    "colab": {
     "base_uri": "https://localhost:8080/"
    },
    "id": "6TcM0fjaTh8g",
    "outputId": "1f8e96e7-986b-4518-e9b3-92b2a19633cd"
   },
   "outputs": [
    {
     "data": {
      "text/plain": [
       "(2, 2, 2)"
      ]
     },
     "execution_count": 16,
     "metadata": {},
     "output_type": "execute_result"
    }
   ],
   "source": [
    "array5 = np.array([[[1, 2], [3, 4]], [[5, 6], [7, 8]]])\n",
    "array5.shape\n",
    "# 3차원 데이터"
   ]
  },
  {
   "cell_type": "markdown",
   "metadata": {
    "id": "YvNwSRA9Ts6l"
   },
   "source": [
    "# 넘파이 기본 함수"
   ]
  },
  {
   "cell_type": "code",
   "execution_count": 17,
   "metadata": {
    "colab": {
     "base_uri": "https://localhost:8080/"
    },
    "id": "Auu9djjbTvGF",
    "outputId": "511093be-7024-4417-e3ab-845359c18c7a"
   },
   "outputs": [
    {
     "data": {
      "text/plain": [
       "array([0, 1, 2, 3, 4, 5, 6, 7, 8, 9])"
      ]
     },
     "execution_count": 17,
     "metadata": {},
     "output_type": "execute_result"
    }
   ],
   "source": [
    "np.arange(10)\n",
    "# 배열을 생성하는 함수, 지정해준 값-1 까지 배열을 생성해준다."
   ]
  },
  {
   "cell_type": "code",
   "execution_count": 19,
   "metadata": {
    "colab": {
     "base_uri": "https://localhost:8080/"
    },
    "id": "N828e6RKT3Nf",
    "outputId": "adbffd7e-1d8d-4ef9-9971-8bbcb7270b4a"
   },
   "outputs": [
    {
     "data": {
      "text/plain": [
       "array([0, 2, 4, 6, 8])"
      ]
     },
     "execution_count": 19,
     "metadata": {},
     "output_type": "execute_result"
    }
   ],
   "source": [
    "np.arange(3,10)\n",
    "# 범위를 지정 할 수 있다.\n",
    "np.arange(0,10,2)\n",
    "# 범위를 지정해 주고 동시에 배열값의 증감폭도 지정해 줄 수 있다."
   ]
  },
  {
   "cell_type": "code",
   "execution_count": 20,
   "metadata": {
    "colab": {
     "base_uri": "https://localhost:8080/"
    },
    "id": "6xBovZDdUKQh",
    "outputId": "b3ebfee3-3e1c-4150-fdbe-c5f761bf3f96"
   },
   "outputs": [
    {
     "data": {
      "text/plain": [
       "array([0., 0., 0., 0., 0., 0., 0., 0., 0., 0.])"
      ]
     },
     "execution_count": 20,
     "metadata": {},
     "output_type": "execute_result"
    }
   ],
   "source": [
    "np.zeros(10)\n",
    "# 값이 0으로 이루어진 배열을 생성한다."
   ]
  },
  {
   "cell_type": "code",
   "execution_count": 21,
   "metadata": {
    "colab": {
     "base_uri": "https://localhost:8080/"
    },
    "id": "gy-mcF11UXXy",
    "outputId": "e08269ad-b33e-483e-b381-c2ecded577fd"
   },
   "outputs": [
    {
     "data": {
      "text/plain": [
       "array([1., 1., 1., 1., 1., 1., 1., 1., 1.])"
      ]
     },
     "execution_count": 21,
     "metadata": {},
     "output_type": "execute_result"
    }
   ],
   "source": [
    "np.ones(9)\n",
    "# 값이 1로 이루어진 배열을 생성한다."
   ]
  },
  {
   "cell_type": "markdown",
   "metadata": {
    "id": "P8cwNK9DUk6y"
   },
   "source": [
    "# reshape\n"
   ]
  },
  {
   "cell_type": "code",
   "execution_count": 23,
   "metadata": {
    "colab": {
     "base_uri": "https://localhost:8080/"
    },
    "id": "aWQxWuMRU91T",
    "outputId": "93a9813c-23ce-41e3-8704-029b5581a0eb"
   },
   "outputs": [
    {
     "name": "stdout",
     "output_type": "stream",
     "text": [
      "[[1 1 1 1]\n",
      " [1 1 1 1]\n",
      " [1 1 1 1]]\n",
      "Data Type is: int32\n",
      "Data Shape is: (3, 4)\n"
     ]
    }
   ],
   "source": [
    "ones_array = np.ones((3,4), dtype='int32')\n",
    "print(ones_array)\n",
    "print(\"Data Type is:\", ones_array.dtype)\n",
    "print(\"Data Shape is:\", ones_array.shape)"
   ]
  },
  {
   "cell_type": "code",
   "execution_count": 24,
   "metadata": {
    "colab": {
     "base_uri": "https://localhost:8080/"
    },
    "id": "h3cd0CKiUnRp",
    "outputId": "6710aca7-e141-45eb-8748-52a1ac6a2710"
   },
   "outputs": [
    {
     "name": "stdout",
     "output_type": "stream",
     "text": [
      "[[1 1]\n",
      " [1 1]\n",
      " [1 1]\n",
      " [1 1]\n",
      " [1 1]\n",
      " [1 1]]\n",
      "Data Shape is: (6, 2)\n"
     ]
    }
   ],
   "source": [
    "after_reshape = ones_array.reshape(6,2)\n",
    "print(after_reshape)\n",
    "print(\"Data Shape is:\", after_reshape.shape)\n",
    "# 배열의 형태를 변형해줄 수 있다."
   ]
  },
  {
   "cell_type": "code",
   "execution_count": 25,
   "metadata": {
    "colab": {
     "base_uri": "https://localhost:8080/",
     "height": 176
    },
    "id": "Ybyz1PPAVCFh",
    "outputId": "d7c18430-895e-421a-e466-8d048651689a"
   },
   "outputs": [
    {
     "ename": "ValueError",
     "evalue": "ignored",
     "output_type": "error",
     "traceback": [
      "\u001b[0;31m---------------------------------------------------------------------------\u001b[0m",
      "\u001b[0;31mValueError\u001b[0m                                Traceback (most recent call last)",
      "\u001b[0;32m<ipython-input-25-94cac763be50>\u001b[0m in \u001b[0;36m<module>\u001b[0;34m()\u001b[0m\n\u001b[0;32m----> 1\u001b[0;31m \u001b[0mafter_reshape\u001b[0m \u001b[0;34m=\u001b[0m \u001b[0mones_array\u001b[0m\u001b[0;34m.\u001b[0m\u001b[0mreshape\u001b[0m\u001b[0;34m(\u001b[0m\u001b[0;36m5\u001b[0m\u001b[0;34m,\u001b[0m\u001b[0;36m3\u001b[0m\u001b[0;34m)\u001b[0m\u001b[0;34m\u001b[0m\u001b[0;34m\u001b[0m\u001b[0m\n\u001b[0m",
      "\u001b[0;31mValueError\u001b[0m: cannot reshape array of size 12 into shape (5,3)"
     ]
    }
   ],
   "source": [
    "after_reshape = ones_array.reshape(5,3)\n",
    "# cannot reshape array of size 12 into shape (5,3)\n",
    "# 이 뜻은 원래 배열의 값(12) 보다 더 크게 배열을 만들 수 없을을 뜻한다."
   ]
  },
  {
   "cell_type": "code",
   "execution_count": 26,
   "metadata": {
    "colab": {
     "base_uri": "https://localhost:8080/"
    },
    "id": "wl5tZl0-VU6_",
    "outputId": "b5652087-e117-461f-b0d5-c77351bdb401"
   },
   "outputs": [
    {
     "name": "stdout",
     "output_type": "stream",
     "text": [
      "[[[1 1]\n",
      "  [1 1]\n",
      "  [1 1]]\n",
      "\n",
      " [[1 1]\n",
      "  [1 1]\n",
      "  [1 1]]]\n",
      "Data Shape is: (2, 3, 2)\n"
     ]
    }
   ],
   "source": [
    "after_reshape = ones_array.reshape(2,3,2)\n",
    "print(after_reshape)\n",
    "print(\"Data Shape is:\", after_reshape.shape)\n",
    "# 2차원 3x4 배열을 3차원 2x3x2의 형태로 만들어 줄 수 있다."
   ]
  },
  {
   "cell_type": "code",
   "execution_count": 27,
   "metadata": {
    "colab": {
     "base_uri": "https://localhost:8080/"
    },
    "id": "PFcSEfnLW43O",
    "outputId": "3f5d3115-883e-4e1f-b760-8c50356974f8"
   },
   "outputs": [
    {
     "name": "stdout",
     "output_type": "stream",
     "text": [
      "reshape(-1,6)? \n",
      "\n",
      "[[1 1 1 1 1 1]\n",
      " [1 1 1 1 1 1]]\n"
     ]
    }
   ],
   "source": [
    "after_reshape2= ones_array.reshape(-1,6)\n",
    "print(\"reshape(-1,6)? \\n\")\n",
    "print(after_reshape2)\n",
    "# 배열을 바꿔줄때, 앞에 -1을 넣을 경우 자동으로 뒤의 숫자에 맞춰 리쉐이프를 진행해준다"
   ]
  },
  {
   "cell_type": "markdown",
   "metadata": {
    "id": "CUvQq2K5cajP"
   },
   "source": [
    "# Array 연산\n",
    " - Array연산은 기본적으로 크기가 서로 동일해야 진행된다.\n",
    " - 이때 같은 위치에 있는 요소들 끼리 연산된다."
   ]
  },
  {
   "cell_type": "code",
   "execution_count": 3,
   "metadata": {
    "colab": {
     "base_uri": "https://localhost:8080/"
    },
    "id": "JUVMPlI8caNz",
    "outputId": "9b74dc73-53a8-4c4d-ef46-c4266cf84b28"
   },
   "outputs": [
    {
     "data": {
      "text/plain": [
       "array([[1, 2, 3],\n",
       "       [4, 5, 6]])"
      ]
     },
     "execution_count": 3,
     "metadata": {},
     "output_type": "execute_result"
    }
   ],
   "source": [
    "arr1 = np.array([[1,2,3],[4,5,6]])\n",
    "arr1\n"
   ]
  },
  {
   "cell_type": "code",
   "execution_count": 4,
   "metadata": {
    "colab": {
     "base_uri": "https://localhost:8080/"
    },
    "id": "ihP-U2kFc04W",
    "outputId": "b3bcdad7-11e8-472b-a376-c9255e3f53bc"
   },
   "outputs": [
    {
     "data": {
      "text/plain": [
       "array([[10, 11, 12],\n",
       "       [13, 14, 15]])"
      ]
     },
     "execution_count": 4,
     "metadata": {},
     "output_type": "execute_result"
    }
   ],
   "source": [
    "arr2 = np.array([[10,11,12],[13,14,15]])\n",
    "arr2\n",
    "\n"
   ]
  },
  {
   "cell_type": "code",
   "execution_count": 5,
   "metadata": {
    "colab": {
     "base_uri": "https://localhost:8080/"
    },
    "id": "OL_EwH4xc3XX",
    "outputId": "dd9238c1-f926-44e2-f7b3-f529cc6e6418"
   },
   "outputs": [
    {
     "data": {
      "text/plain": [
       "array([[11, 13, 15],\n",
       "       [17, 19, 21]])"
      ]
     },
     "execution_count": 5,
     "metadata": {},
     "output_type": "execute_result"
    }
   ],
   "source": [
    "arr1 + arr2"
   ]
  },
  {
   "cell_type": "code",
   "execution_count": 6,
   "metadata": {
    "colab": {
     "base_uri": "https://localhost:8080/"
    },
    "id": "M6iGdC96c6BR",
    "outputId": "156739e9-7e84-4161-c02c-cea3fbeecf61"
   },
   "outputs": [
    {
     "data": {
      "text/plain": [
       "array([[-9, -9, -9],\n",
       "       [-9, -9, -9]])"
      ]
     },
     "execution_count": 6,
     "metadata": {},
     "output_type": "execute_result"
    }
   ],
   "source": [
    "arr1 - arr2"
   ]
  },
  {
   "cell_type": "code",
   "execution_count": 7,
   "metadata": {
    "colab": {
     "base_uri": "https://localhost:8080/"
    },
    "id": "p8VqakbEc8Ig",
    "outputId": "688d093c-c805-4717-d195-6042d5cb3270"
   },
   "outputs": [
    {
     "data": {
      "text/plain": [
       "array([[10, 22, 36],\n",
       "       [52, 70, 90]])"
      ]
     },
     "execution_count": 7,
     "metadata": {},
     "output_type": "execute_result"
    }
   ],
   "source": [
    "arr1 * arr2\n",
    "# 행렬의 곱셉처럼 진행되는게 아닌, 각 요소별로 곱셈이 진행된다."
   ]
  },
  {
   "cell_type": "code",
   "execution_count": 8,
   "metadata": {
    "colab": {
     "base_uri": "https://localhost:8080/"
    },
    "id": "FaUzlGb1dD5q",
    "outputId": "9968d2aa-9f4d-40ec-e10f-d9f9613d19b7"
   },
   "outputs": [
    {
     "data": {
      "text/plain": [
       "array([[0.1       , 0.18181818, 0.25      ],\n",
       "       [0.30769231, 0.35714286, 0.4       ]])"
      ]
     },
     "execution_count": 8,
     "metadata": {},
     "output_type": "execute_result"
    }
   ],
   "source": [
    "arr1 / arr2"
   ]
  },
  {
   "cell_type": "markdown",
   "metadata": {
    "id": "dbCyUbWBdGD-"
   },
   "source": [
    "# Array 브로드 캐스트\n",
    " - 브로드캐스트란, 서로 크기가 다른 Array의 연산을 가능캐하는 것 이다."
   ]
  },
  {
   "cell_type": "code",
   "execution_count": 9,
   "metadata": {
    "colab": {
     "base_uri": "https://localhost:8080/"
    },
    "id": "YUlrgY5GdQn4",
    "outputId": "c968e3b2-9d80-4760-bc7b-4a2ba93e21f8"
   },
   "outputs": [
    {
     "data": {
      "text/plain": [
       "array([[1, 2, 3],\n",
       "       [4, 5, 6]])"
      ]
     },
     "execution_count": 9,
     "metadata": {},
     "output_type": "execute_result"
    }
   ],
   "source": [
    "arr1\n"
   ]
  },
  {
   "cell_type": "code",
   "execution_count": 11,
   "metadata": {
    "colab": {
     "base_uri": "https://localhost:8080/"
    },
    "id": "JkFlZi7ldUfY",
    "outputId": "0f82f7cf-fcb7-4c48-c380-e9e34c41a013"
   },
   "outputs": [
    {
     "data": {
      "text/plain": [
       "array([10, 11, 12])"
      ]
     },
     "execution_count": 11,
     "metadata": {},
     "output_type": "execute_result"
    }
   ],
   "source": [
    "arr3 = np.array([10,11,12])\n",
    "arr3\n",
    "\n",
    "\n"
   ]
  },
  {
   "cell_type": "code",
   "execution_count": 12,
   "metadata": {
    "colab": {
     "base_uri": "https://localhost:8080/"
    },
    "id": "yfqaquCBdYqw",
    "outputId": "bc5fe751-3d78-4a8f-8abf-ac7adcdf47e7"
   },
   "outputs": [
    {
     "data": {
      "text/plain": [
       "array([[11, 13, 15],\n",
       "       [14, 16, 18]])"
      ]
     },
     "execution_count": 12,
     "metadata": {},
     "output_type": "execute_result"
    }
   ],
   "source": [
    "arr1 + arr3\n",
    "# 이 결과처럼 arr1에 arr3이 각각 더해진다."
   ]
  },
  {
   "cell_type": "code",
   "execution_count": 13,
   "metadata": {
    "colab": {
     "base_uri": "https://localhost:8080/"
    },
    "id": "bGZYdUZ9dg2F",
    "outputId": "f7618cd1-afe1-4a02-d316-6cff90f214d0"
   },
   "outputs": [
    {
     "data": {
      "text/plain": [
       "array([[10, 22, 36],\n",
       "       [40, 55, 72]])"
      ]
     },
     "execution_count": 13,
     "metadata": {},
     "output_type": "execute_result"
    }
   ],
   "source": [
    "arr1 * arr3"
   ]
  },
  {
   "cell_type": "markdown",
   "metadata": {
    "id": "JbbMdaEgdvwe"
   },
   "source": [
    "# 그 외 연산"
   ]
  },
  {
   "cell_type": "code",
   "execution_count": 14,
   "metadata": {
    "colab": {
     "base_uri": "https://localhost:8080/"
    },
    "id": "ludZO3UydxlL",
    "outputId": "26bd128f-6721-4b08-9606-5a2ba6d890bb"
   },
   "outputs": [
    {
     "data": {
      "text/plain": [
       "array([[10, 20, 30],\n",
       "       [40, 50, 60]])"
      ]
     },
     "execution_count": 14,
     "metadata": {},
     "output_type": "execute_result"
    }
   ],
   "source": [
    "arr1 * 10"
   ]
  },
  {
   "cell_type": "code",
   "execution_count": 15,
   "metadata": {
    "colab": {
     "base_uri": "https://localhost:8080/"
    },
    "id": "_GTMP36IdzMV",
    "outputId": "b761d90e-eb05-459b-9cf7-a2501a25ebba"
   },
   "outputs": [
    {
     "data": {
      "text/plain": [
       "array([[ 1,  4,  9],\n",
       "       [16, 25, 36]])"
      ]
     },
     "execution_count": 15,
     "metadata": {},
     "output_type": "execute_result"
    }
   ],
   "source": [
    "arr1 ** 2\n",
    "# 요소값에 제곱"
   ]
  },
  {
   "cell_type": "markdown",
   "metadata": {
    "id": "nPDEjmkneZ5c"
   },
   "source": [
    "# Array boolean 인덱싱(마스크)\n",
    " - Array의 다차원 인덱싱을 응용하여 boolean 인덱싱을 할 수 있다.\n",
    " - 이러한 방법을 마스크라고 이야기한다\n",
    " - 마스크처럼 원하는 요소만을 꺼낼 수 있다."
   ]
  },
  {
   "cell_type": "code",
   "execution_count": 16,
   "metadata": {
    "colab": {
     "base_uri": "https://localhost:8080/"
    },
    "id": "wHqPu_Wcer3O",
    "outputId": "6f492c4a-dd16-482b-d2cb-c4a7db5ca1fc"
   },
   "outputs": [
    {
     "data": {
      "text/plain": [
       "array(['A', 'B', 'C', 'D', 'E', 'F', 'G', 'H'], dtype='<U1')"
      ]
     },
     "execution_count": 16,
     "metadata": {},
     "output_type": "execute_result"
    }
   ],
   "source": [
    "names = np.array(['A','B','C','D','E','F','G','H'])\n",
    "names\n",
    "\n"
   ]
  },
  {
   "cell_type": "code",
   "execution_count": 17,
   "metadata": {
    "colab": {
     "base_uri": "https://localhost:8080/"
    },
    "id": "wxEUvJ6te2rb",
    "outputId": "2725e8b0-ce85-4619-de53-ad5ace739a76"
   },
   "outputs": [
    {
     "data": {
      "text/plain": [
       "array([[-0.78574336,  0.48987839,  0.82645617, -0.17152028],\n",
       "       [-0.3937686 , -0.93822294,  2.14477087,  0.14940101],\n",
       "       [ 1.43828557,  0.47514969, -0.08924484, -0.96863949],\n",
       "       [ 0.38315778,  0.52111372,  0.05168264, -0.73003927],\n",
       "       [ 1.22600484, -0.31477497, -0.70510052, -1.42081814],\n",
       "       [-0.76256766,  0.61905043, -0.42352021,  1.8825546 ],\n",
       "       [ 0.72534189, -2.13280186,  0.72306828,  1.18772154],\n",
       "       [ 1.31611304,  0.98261818,  0.38594941, -0.25431404]])"
      ]
     },
     "execution_count": 17,
     "metadata": {},
     "output_type": "execute_result"
    }
   ],
   "source": [
    "data = np.random.randn(8,4)\n",
    "data\n",
    "\n",
    "#.random.randn 기대값 0  표준편차가 1인 난수를 발생시켜주는 함수다\n",
    "\n"
   ]
  },
  {
   "cell_type": "markdown",
   "metadata": {
    "id": "n7b7SNN4fH6g"
   },
   "source": [
    "names 와 data라는 두 array이가 있을때, 각 요소의 행이 연결되었고\n",
    "names가 A 인 행의 data를 본다고 하면 아래와 같이 해야한다."
   ]
  },
  {
   "cell_type": "code",
   "execution_count": 20,
   "metadata": {
    "colab": {
     "base_uri": "https://localhost:8080/"
    },
    "id": "Ecu1CtBnfcWE",
    "outputId": "fc5af37d-9822-413d-f268-168fadf3451d"
   },
   "outputs": [
    {
     "data": {
      "text/plain": [
       "array([ True, False, False, False, False, False, False, False])"
      ]
     },
     "execution_count": 20,
     "metadata": {},
     "output_type": "execute_result"
    }
   ],
   "source": [
    "# 요소가 A인 항목에 대한 mask 생성\n",
    "names_A_mask = (names == 'A')\n",
    "names_A_mask\n"
   ]
  },
  {
   "cell_type": "code",
   "execution_count": 21,
   "metadata": {
    "colab": {
     "base_uri": "https://localhost:8080/"
    },
    "id": "1xypK5mwfonX",
    "outputId": "988a84d4-a703-47f3-83d2-8c82d7a03583"
   },
   "outputs": [
    {
     "data": {
      "text/plain": [
       "array([[-0.78574336,  0.48987839,  0.82645617, -0.17152028]])"
      ]
     },
     "execution_count": 21,
     "metadata": {},
     "output_type": "execute_result"
    }
   ],
   "source": [
    "data[names_A_mask,:]"
   ]
  },
  {
   "cell_type": "markdown",
   "metadata": {
    "id": "b9yoQeBEfyPI"
   },
   "source": [
    "위의 값을 본다면 0행의 값이 A인 것을 알 수 있다."
   ]
  },
  {
   "cell_type": "code",
   "execution_count": 22,
   "metadata": {
    "colab": {
     "base_uri": "https://localhost:8080/"
    },
    "id": "meRcsx6DfxMI",
    "outputId": "56546353-0b3a-4ba4-d9bf-fa2c44bd1f02"
   },
   "outputs": [
    {
     "data": {
      "text/plain": [
       "array([[-0.3937686 , -0.93822294,  2.14477087,  0.14940101]])"
      ]
     },
     "execution_count": 22,
     "metadata": {},
     "output_type": "execute_result"
    }
   ],
   "source": [
    "data[names == 'B',:]\n",
    "# 요소가 B인 행의 데이터만 꺼내기"
   ]
  },
  {
   "cell_type": "code",
   "execution_count": 23,
   "metadata": {
    "colab": {
     "base_uri": "https://localhost:8080/"
    },
    "id": "TAZWF1ORgPKl",
    "outputId": "ca01a94a-6e7d-431f-c42b-c0a3573e21de"
   },
   "outputs": [
    {
     "data": {
      "text/plain": [
       "array([[ 1.43828557,  0.47514969, -0.08924484, -0.96863949],\n",
       "       [ 0.38315778,  0.52111372,  0.05168264, -0.73003927]])"
      ]
     },
     "execution_count": 23,
     "metadata": {},
     "output_type": "execute_result"
    }
   ],
   "source": [
    "data[(names == 'C') | (names == 'D'),:]\n",
    "\n",
    "#논리값을 이용해 C 또는 D인 행의 데이터만 꺼내기"
   ]
  },
  {
   "cell_type": "markdown",
   "metadata": {
    "id": "GxaSUmUkgpt1"
   },
   "source": [
    "data array 자체적으로도 마스크를 만들고 응용이 가능하다.\n",
    "0번째 열이 0보다 작은 행을 구한다면 어떻게 해야할까?"
   ]
  },
  {
   "cell_type": "code",
   "execution_count": 24,
   "metadata": {
    "colab": {
     "base_uri": "https://localhost:8080/"
    },
    "id": "-Yd34YSwgoay",
    "outputId": "e462ca45-153d-44d6-bf86-ac2797e6afe1"
   },
   "outputs": [
    {
     "data": {
      "text/plain": [
       "array([ True,  True, False, False, False,  True, False, False])"
      ]
     },
     "execution_count": 24,
     "metadata": {},
     "output_type": "execute_result"
    }
   ],
   "source": [
    "data[:,0] < 0\n",
    "#먼저 data array에서 0번째 열이 0보다 작은 요소의 값은 다음과 같다."
   ]
  },
  {
   "cell_type": "code",
   "execution_count": 25,
   "metadata": {
    "colab": {
     "base_uri": "https://localhost:8080/"
    },
    "id": "SIZtgyUAhAKX",
    "outputId": "3be3e312-c97f-48a6-ef2c-180071002c96"
   },
   "outputs": [
    {
     "data": {
      "text/plain": [
       "array([[-0.78574336,  0.48987839,  0.82645617, -0.17152028],\n",
       "       [-0.3937686 , -0.93822294,  2.14477087,  0.14940101],\n",
       "       [-0.76256766,  0.61905043, -0.42352021,  1.8825546 ]])"
      ]
     },
     "execution_count": 25,
     "metadata": {},
     "output_type": "execute_result"
    }
   ],
   "source": [
    "data[data[:,0]<0,:]\n",
    "#위에서 만든 마스크를 이용해 0번째 열의 값이 0보다 작은 행을 구한다. "
   ]
  },
  {
   "cell_type": "code",
   "execution_count": 26,
   "metadata": {
    "colab": {
     "base_uri": "https://localhost:8080/"
    },
    "id": "ZTQv9n24hYCK",
    "outputId": "da818801-e891-43ab-abce-0bd0fe93868f"
   },
   "outputs": [
    {
     "data": {
      "text/plain": [
       "array([[ 0.82645617, -0.17152028],\n",
       "       [ 2.14477087,  0.14940101],\n",
       "       [-0.42352021,  1.8825546 ]])"
      ]
     },
     "execution_count": 26,
     "metadata": {},
     "output_type": "execute_result"
    }
   ],
   "source": [
    "data[data[:,0]<0,2:4]\n",
    "#이걸 응용하면 특정위치에 값을 대입할 수 있다.\n",
    "#위의 코드는 0번째 열의 값이 0보다 작은 행의 2.3번째 열값이다."
   ]
  },
  {
   "cell_type": "code",
   "execution_count": 27,
   "metadata": {
    "colab": {
     "base_uri": "https://localhost:8080/"
    },
    "id": "mDlHYOCGhkBo",
    "outputId": "61dad99c-8280-4af3-e239-fea60f917185"
   },
   "outputs": [
    {
     "data": {
      "text/plain": [
       "array([[-0.78574336,  0.48987839,  0.        ,  0.        ],\n",
       "       [-0.3937686 , -0.93822294,  0.        ,  0.        ],\n",
       "       [ 1.43828557,  0.47514969, -0.08924484, -0.96863949],\n",
       "       [ 0.38315778,  0.52111372,  0.05168264, -0.73003927],\n",
       "       [ 1.22600484, -0.31477497, -0.70510052, -1.42081814],\n",
       "       [-0.76256766,  0.61905043,  0.        ,  0.        ],\n",
       "       [ 0.72534189, -2.13280186,  0.72306828,  1.18772154],\n",
       "       [ 1.31611304,  0.98261818,  0.38594941, -0.25431404]])"
      ]
     },
     "execution_count": 27,
     "metadata": {},
     "output_type": "execute_result"
    }
   ],
   "source": [
    "data[data[:,0]<0,2:4] = 0\n",
    "data\n",
    "\n",
    "#이렇게 구한 열값에 0을 대입하면 아래와 같은 결과를 얻을 수 있다.\n"
   ]
  }
 ],
 "metadata": {
  "colab": {
   "name": "Untitled2.ipynb",
   "provenance": []
  },
  "kernelspec": {
   "display_name": "Python 3",
   "language": "python",
   "name": "python3"
  },
  "language_info": {
   "codemirror_mode": {
    "name": "ipython",
    "version": 3
   },
   "file_extension": ".py",
   "mimetype": "text/x-python",
   "name": "python",
   "nbconvert_exporter": "python",
   "pygments_lexer": "ipython3",
   "version": "3.8.8"
  }
 },
 "nbformat": 4,
 "nbformat_minor": 4
}
